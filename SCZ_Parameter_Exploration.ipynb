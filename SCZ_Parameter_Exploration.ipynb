{
 "cells": [
  {
   "cell_type": "code",
   "execution_count": 2,
   "metadata": {},
   "outputs": [
    {
     "name": "stderr",
     "output_type": "stream",
     "text": [
      "/home/renato/.virtualenvs/pps/lib/python3.11/site-packages/nbformat/__init__.py:93: MissingIDFieldWarning: Code cell is missing an id field, this will become a hard error in future nbformat versions. You may want to use `normalize()` on your notebooks before validations (available since nbformat 5.1.4). Previous versions of nbformat are fixing this issue transparently, and will stop doing so in the future.\n",
      "  validate(nb)\n",
      "/tmp/ipykernel_29566/1247435164.py:5: DeprecationWarning: \n",
      "Pyarrow will become a required dependency of pandas in the next major release of pandas (pandas 3.0),\n",
      "(to allow more performant data types, such as the Arrow string type, and better interoperability with other libraries)\n",
      "but was not found to be installed on your system.\n",
      "If this would cause problems for you,\n",
      "please provide us feedback at https://github.com/pandas-dev/pandas/issues/54466\n",
      "        \n",
      "  import pandas as pd\n"
     ]
    }
   ],
   "source": [
    "%run ./Vlad_Dissertation.ipynb"
   ]
  },
  {
   "attachments": {},
   "cell_type": "markdown",
   "metadata": {},
   "source": [
    "In this notebook I apply different methodologies used across the literature to model SCZ. I specifically look at how parameter changes in the neurobiological network influence the psychometric function - i.e., the values of the Central Point and the Slope. I also come up with my own exploration of cross-modal links and their influence on schizophrenia."
   ]
  },
  {
   "cell_type": "code",
   "execution_count": 3,
   "metadata": {},
   "outputs": [],
   "source": [
    "n = int(200 / 0.4)\n",
    "a_distances = dist = [24, 39, 54, 75, 96, 111, 126]\n",
    "T = 200"
   ]
  },
  {
   "attachments": {},
   "cell_type": "markdown",
   "metadata": {},
   "source": [
    "### 1) Exploring E/I Imbalance"
   ]
  },
  {
   "attachments": {},
   "cell_type": "markdown",
   "metadata": {},
   "source": [
    "The most reliable neurobiological marker of schizophrenia is reduced GABAergic inhibition intraregionally, which I model through either excessive $L_{ex}^s$ values"
   ]
  },
  {
   "cell_type": "code",
   "execution_count": 6,
   "metadata": {},
   "outputs": [],
   "source": [
    "# Start by building the inflexible parameters\n",
    "\n",
    "Wt, Wa, Wv, Bt, Ba, Bv = FwFb(\n",
    "    6.5, 6.5, 6.5, 6.55, 6.55, 6.55, 1.035e01, 6.045e02, 6.337e01, 7.194e-01\n",
    ")  # feedforward and feedback\n",
    "Wat, Wvt, Wav = crossmodal(1.3, 2, 1.3, 2, 1.3, 2)"
   ]
  },
  {
   "cell_type": "code",
   "execution_count": 36,
   "metadata": {},
   "outputs": [
    {
     "name": "stderr",
     "output_type": "stream",
     "text": [
      "/tmp/ipykernel_29566/1941110757.py:43: RuntimeWarning: overflow encountered in exp\n",
      "  psim = (fmin_m + fmax_m * np.exp((qm - qc_m) * r_m)) / (\n",
      "/tmp/ipykernel_29566/1941110757.py:44: RuntimeWarning: overflow encountered in exp\n",
      "  1 + np.exp((qm - qc_m) * r_m)\n",
      "/tmp/ipykernel_29566/1941110757.py:43: RuntimeWarning: invalid value encountered in scalar divide\n",
      "  psim = (fmin_m + fmax_m * np.exp((qm - qc_m) * r_m)) / (\n"
     ]
    }
   ],
   "source": [
    "LEXs = np.linspace(\n",
    "    0, 3, 15\n",
    ")  # anything larger bugs out, unless paired with weaker top-down connections as well\n",
    "\n",
    "zt = np.zeros((len(LEXs), Mt, Nt, len(dist), n))\n",
    "zv = np.zeros((len(LEXs), Mv, Nv, len(dist), n))\n",
    "za = np.zeros((len(LEXs), Ma, Na, len(dist), n))\n",
    "zm = np.zeros((len(LEXs), len(dist), n))\n",
    "\n",
    "LRTs = np.zeros((len(LEXs), len(dist)))\n",
    "\n",
    "for i in range(len(LEXs)):\n",
    "    # For each L_ex see what happens\n",
    "    Lt, La, Lv = Lw(LEXs[i], 0.05, 1, 4, LEXs[i], 0.05, 20, 80, LEXs[i], 0.05, 2, 8)\n",
    "    (\n",
    "        zt[i, :, :, :, :],\n",
    "        za[i, :, :, :, :],\n",
    "        zm[i, :, :],\n",
    "        zv[i, :, :, :, :],\n",
    "        LRTs[i, :],\n",
    "    ) = experiment(\n",
    "        0.4, T, dist, 5, Lt, La, Lv, Wt, Wa, Wv, Bt, Ba, Bv, Wat, Wvt, Wav, 0, 0\n",
    "    )"
   ]
  },
  {
   "cell_type": "code",
   "execution_count": 37,
   "metadata": {},
   "outputs": [],
   "source": [
    "Lcp = np.zeros(len(LEXs))\n",
    "Lslope = np.zeros(len(LEXs))\n",
    "\n",
    "for i in range(len(LEXs)):\n",
    "    RTs = LRTs[i, :]\n",
    "\n",
    "    ymin = np.min(RTs)\n",
    "    ymax = np.max(RTs)\n",
    "\n",
    "    Lcp[i], Lslope[i] = fitting(a_distances, RTs)\n",
    "\n",
    "np.save(\"drafts/Lcp.npy\", Lcp)\n",
    "np.save(\"drafts/Lslope.npy\", Lslope)\n",
    "np.save(\"drafts/LRT.npy\", LRTs)"
   ]
  },
  {
   "attachments": {},
   "cell_type": "markdown",
   "metadata": {},
   "source": [
    "### 2)Exploring FW Pruning"
   ]
  },
  {
   "attachments": {},
   "cell_type": "markdown",
   "metadata": {},
   "source": [
    "Another straightforward method in the literature is synaptic pruning of feedforward weights from the unisensory regions into the multisensory neuron. "
   ]
  },
  {
   "cell_type": "code",
   "execution_count": 58,
   "metadata": {},
   "outputs": [],
   "source": [
    "Lt, La, Lv = Lw(0.15, 0.05, 1, 4, 0.15, 0.05, 20, 80, 0.15, 0.05, 2, 8)\n",
    "Wt, Wa, Wv, Bt, Ba, Bv = FwFb(\n",
    "    6.5, 6.5, 6.5, 6.55, 6.55, 6.55, 1.035e01, 6.045e02, 6.337e01, 7.194e-01\n",
    ")  # feedforward and feedback\n",
    "Wat, Wvt, Wav = crossmodal(1.3, 2, 1.3, 2, 1.3, 2)"
   ]
  },
  {
   "cell_type": "code",
   "execution_count": 59,
   "metadata": {},
   "outputs": [
    {
     "name": "stdout",
     "output_type": "stream",
     "text": [
      "[1.         1.         1.         0.7380699  0.65546661 0.65546661\n",
      " 0.57043239 0.57043239] [1.         1.         1.         0.95019134 0.86111541 0.82646377\n",
      " 0.80566302 0.78188348]\n"
     ]
    }
   ],
   "source": [
    "PRs = [0.75, 1, 1.25, 2.25, 4, 5, 6, 6.5]\n",
    "\n",
    "percpr_a = np.zeros(len(PRs))\n",
    "percpr_v = np.zeros(len(PRs))\n",
    "\n",
    "for i in range(len(PRs)):\n",
    "    wpruna = prun(Wa, PRs[i])\n",
    "    wprunv = prun(Wv, PRs[i])\n",
    "    percpr_a[i] = np.sum(wpruna) / np.sum(Wa)\n",
    "    percpr_v[i] = np.sum(wprunv) / np.sum(Wv)\n",
    "\n",
    "print(percpr_a, percpr_v)"
   ]
  },
  {
   "cell_type": "code",
   "execution_count": 11,
   "metadata": {},
   "outputs": [],
   "source": [
    "zt = np.zeros((len(PRs), Mt, Nt, len(dist), n))\n",
    "zv = np.zeros((len(PRs), Mv, Nv, len(dist), n))\n",
    "za = np.zeros((len(PRs), Ma, Na, len(dist), n))\n",
    "zm = np.zeros((len(PRs), len(dist), n))\n",
    "PRRTs = np.zeros((len(PRs), len(dist)))\n",
    "\n",
    "for i in range(len(PRs)):\n",
    "    (\n",
    "        zt[i, :, :, :, :],\n",
    "        za[i, :, :, :, :],\n",
    "        zm[i, :, :],\n",
    "        zv[i, :, :, :, :],\n",
    "        PRRTs[i, :],\n",
    "    ) = experiment(\n",
    "        0.4, T, dist, 5, Lt, La, Lv, Wt, Wa, Wv, Bt, Ba, Bv, Wat, Wvt, Wav, PRs[i], 0\n",
    "    )"
   ]
  },
  {
   "cell_type": "code",
   "execution_count": 12,
   "metadata": {},
   "outputs": [],
   "source": [
    "PRcp = np.zeros(len(PRs))\n",
    "PRslope = np.zeros(len(PRs))\n",
    "\n",
    "for i in range(len(PRs)):\n",
    "    RTs = PRRTs[i, :]\n",
    "\n",
    "    ymin = np.min(RTs)\n",
    "    ymax = np.max(RTs)\n",
    "\n",
    "    PRcp[i], PRslope[i] = fitting(a_distances, RTs)\n",
    "\n",
    "np.save(\"drafts/PRcp.npy\", PRcp)\n",
    "np.save(\"drafts/PRslope.npy\", PRslope)\n",
    "np.save(\"drafts/PRRT.npy\", PRRTs)"
   ]
  },
  {
   "attachments": {},
   "cell_type": "markdown",
   "metadata": {},
   "source": [
    "### 3)Exploring B_0"
   ]
  },
  {
   "attachments": {},
   "cell_type": "markdown",
   "metadata": {},
   "source": [
    "Paredes et al., 2021 further eplore top-down signalling issues, which they end up removing from their end model. Since my model includes crossmodal connectivity, this exploration could be of use"
   ]
  },
  {
   "cell_type": "code",
   "execution_count": 13,
   "metadata": {},
   "outputs": [],
   "source": [
    "# Start by building the inflexible parameters\n",
    "\n",
    "Wat, Wvt, Wav = crossmodal(1.3, 2, 1.3, 2, 1.3, 2)  # cross-modal\n",
    "Lt, La, Lv = Lw(0.15, 0.05, 1, 4, 0.15, 0.05, 20, 80, 0.15, 0.05, 2, 8)  # lateral"
   ]
  },
  {
   "cell_type": "code",
   "execution_count": 82,
   "metadata": {},
   "outputs": [],
   "source": [
    "FBs = np.linspace(4.5, 6.55, 15)\n",
    "zt = np.zeros((len(FBs), Mt, Nt, len(dist), n))\n",
    "zv = np.zeros((len(FBs), Mv, Nv, len(dist), n))\n",
    "za = np.zeros((len(FBs), Ma, Na, len(dist), n))\n",
    "zm = np.zeros((len(FBs), len(dist), n))\n",
    "BRTs = np.zeros((len(FBs), len(dist)))\n",
    "\n",
    "for i in range(len(FBs)):\n",
    "    Wt, Wa, Wv, Bt, Ba, Bv = FwFb(\n",
    "        6.5, 6.5, 6.5, FBs[i], FBs[i], FBs[i], 1.035e01, 6.045e02, 6.337e01, 7.194e-01\n",
    "    )  # feedforward and feedback\n",
    "    (\n",
    "        zt[i, :, :, :, :],\n",
    "        za[i, :, :, :, :],\n",
    "        zm[i, :, :],\n",
    "        zv[i, :, :, :, :],\n",
    "        BRTs[i, :],\n",
    "    ) = experiment(\n",
    "        0.4, T, dist, 5, Lt, La, Lv, Wt, Wa, Wv, Bt, Ba, Bv, Wat, Wvt, Wav, 0, 0\n",
    "    )"
   ]
  },
  {
   "cell_type": "code",
   "execution_count": 83,
   "metadata": {},
   "outputs": [],
   "source": [
    "Bcp = np.zeros(len(FBs))\n",
    "Bslope = np.zeros(len(FBs))\n",
    "\n",
    "for i in range(len(FBs)):\n",
    "    RTs = BRTs[i, :]\n",
    "\n",
    "    ymin = np.min(RTs)\n",
    "    ymax = np.max(RTs)\n",
    "\n",
    "    Bcp[i], Bslope[i] = fitting(dist, RTs)\n",
    "\n",
    "np.save(\"drafts/Bcp.npy\", Bcp)\n",
    "np.save(\"drafts/Bslope.npy\", Bslope)\n",
    "np.save(\"drafts/BRT.npy\", BRTs)"
   ]
  },
  {
   "attachments": {},
   "cell_type": "markdown",
   "metadata": {},
   "source": [
    "### 4)Exploring $\\Phi_{cm}$"
   ]
  },
  {
   "cell_type": "code",
   "execution_count": 16,
   "metadata": {},
   "outputs": [],
   "source": [
    "# Start by building the inflexible parameters\n",
    "\n",
    "Wt, Wa, Wv, Bt, Ba, Bv = FwFb(\n",
    "    6.5, 6.5, 6.5, 6.55, 6.55, 6.55, 1.035e01, 6.045e02, 6.337e01, 7.194e-01\n",
    ")  # feedforward and feedback\n",
    "Lt, La, Lv = Lw(0.15, 0.05, 1, 4, 0.15, 0.05, 20, 80, 0.15, 0.05, 2, 8)  # lateral"
   ]
  },
  {
   "cell_type": "code",
   "execution_count": 17,
   "metadata": {},
   "outputs": [],
   "source": [
    "CMs = np.linspace(1.25, 0.125, 15)"
   ]
  },
  {
   "cell_type": "code",
   "execution_count": 18,
   "metadata": {},
   "outputs": [],
   "source": [
    "zt = np.zeros((len(CMs), Mt, Nt, len(dist), n))\n",
    "zv = np.zeros((len(CMs), Mv, Nv, len(dist), n))\n",
    "za = np.zeros((len(CMs), Ma, Na, len(dist), n))\n",
    "zm = np.zeros((len(CMs), len(dist), n))\n",
    "CMRTs = np.zeros((len(CMs), len(dist)))\n",
    "\n",
    "for i in range(len(CMs)):\n",
    "    Wat, Wvt, Wav = crossmodal(CMs[i], 2, CMs[i], 2, CMs[i], 2)  # cross-modal\n",
    "    (\n",
    "        zt[i, :, :, :, :],\n",
    "        za[i, :, :, :, :],\n",
    "        zm[i, :, :],\n",
    "        zv[i, :, :, :, :],\n",
    "        CMRTs[i, :],\n",
    "    ) = experiment(\n",
    "        0.4, T, dist, 5, Lt, La, Lv, Wt, Wa, Wv, Bt, Ba, Bv, Wat, Wvt, Wav, 0, 0\n",
    "    )"
   ]
  },
  {
   "cell_type": "code",
   "execution_count": 19,
   "metadata": {},
   "outputs": [],
   "source": [
    "CMcp = np.zeros(len(CMs))\n",
    "CMslope = np.zeros(len(CMs))\n",
    "\n",
    "for i in range(len(CMs)):\n",
    "    RTs = CMRTs[i, :]\n",
    "\n",
    "    ymin = np.min(RTs)\n",
    "    ymax = np.max(RTs)\n",
    "\n",
    "    CMcp[i], CMslope[i] = fitting(a_distances, RTs)\n",
    "\n",
    "np.save(\"drafts/CMcp.npy\", CMcp)\n",
    "np.save(\"drafts/CMslope.npy\", CMslope)\n",
    "np.save(\"drafts/CMRT.npy\", CMRTs)"
   ]
  },
  {
   "cell_type": "markdown",
   "metadata": {},
   "source": [
    "### 5) Exploring CM Pruning"
   ]
  },
  {
   "cell_type": "code",
   "execution_count": 76,
   "metadata": {},
   "outputs": [],
   "source": [
    "Lt, La, Lv = Lw(0.15, 0.05, 1, 4, 0.15, 0.05, 20, 80, 0.15, 0.05, 2, 8)\n",
    "Wt, Wa, Wv, Bt, Ba, Bv = FwFb(\n",
    "    6.5, 6.5, 6.5, 6.55, 6.55, 6.55, 1.035e01, 6.045e02, 6.337e01, 7.194e-01\n",
    ")  # feedforward and feedback\n",
    "Wat, Wvt, Wav = crossmodal(1.3, 2, 1.3, 2, 1.3, 2)"
   ]
  },
  {
   "cell_type": "code",
   "execution_count": 77,
   "metadata": {},
   "outputs": [
    {
     "name": "stdout",
     "output_type": "stream",
     "text": [
      "[1.         0.85425527 0.69977593 0.58567169 0.40588838 0.27413706\n",
      " 0.14778853 0.        ] [1.         0.86892987 0.71953305 0.60441575 0.42098862 0.28572316\n",
      " 0.15449923 0.        ] [1.         0.79938511 0.61931687 0.48290448 0.39224797 0.22670816\n",
      " 0.06397328 0.        ]\n"
     ]
    }
   ],
   "source": [
    "CM_PRs = np.linspace(0, 1.3, 8)  # [0.75, 1, 1.25, 2.25, 4, 5, 6, 6.5]\n",
    "\n",
    "percpr_at = np.zeros(len(CM_PRs))\n",
    "percpr_vt = np.zeros(len(CM_PRs))\n",
    "percpr_av = np.zeros(len(CM_PRs))\n",
    "\n",
    "for i in range(len(CM_PRs)):\n",
    "    wprunat = prun(Wat, CM_PRs[i])\n",
    "    wprunvt = prun(Wvt, CM_PRs[i])\n",
    "    wprunav = prun(Wav, CM_PRs[i])\n",
    "\n",
    "    percpr_at[i] = np.sum(wprunat) / np.sum(Wat)\n",
    "    percpr_vt[i] = np.sum(wprunvt) / np.sum(Wvt)\n",
    "    percpr_av[i] = np.sum(wprunav) / np.sum(Wav)\n",
    "\n",
    "print(percpr_at, percpr_vt, percpr_av)"
   ]
  },
  {
   "cell_type": "code",
   "execution_count": 53,
   "metadata": {},
   "outputs": [],
   "source": [
    "zt = np.zeros((len(PRs), Mt, Nt, len(dist), n))\n",
    "zv = np.zeros((len(PRs), Mv, Nv, len(dist), n))\n",
    "za = np.zeros((len(PRs), Ma, Na, len(dist), n))\n",
    "zm = np.zeros((len(PRs), len(dist), n))\n",
    "CM_PRRTs = np.zeros((len(PRs), len(dist)))\n",
    "\n",
    "for i in range(len(PRs)):\n",
    "    (\n",
    "        zt[i, :, :, :, :],\n",
    "        za[i, :, :, :, :],\n",
    "        zm[i, :, :],\n",
    "        zv[i, :, :, :, :],\n",
    "        CM_PRRTs[i, :],\n",
    "    ) = experiment(\n",
    "        0.4, T, dist, 5, Lt, La, Lv, Wt, Wa, Wv, Bt, Ba, Bv, Wat, Wvt, Wav, 0, PRs[i]\n",
    "    )"
   ]
  },
  {
   "cell_type": "code",
   "execution_count": 54,
   "metadata": {},
   "outputs": [],
   "source": [
    "CM_PRcp = np.zeros(len(PRs))\n",
    "CM_PRslope = np.zeros(len(PRs))\n",
    "\n",
    "for i in range(len(PRs)):\n",
    "    RTs = CM_PRRTs[i, :]\n",
    "\n",
    "    ymin = np.min(RTs)\n",
    "    ymax = np.max(RTs)\n",
    "\n",
    "    CM_PRcp[i], CM_PRslope[i] = fitting(a_distances, RTs)\n",
    "\n",
    "np.save(\"drafts/CM_PRcp.npy\", PRcp)\n",
    "np.save(\"drafts/CM_PRslope.npy\", PRslope)\n",
    "np.save(\"drafts/CM_PRRT.npy\", PRRTs)"
   ]
  },
  {
   "attachments": {},
   "cell_type": "markdown",
   "metadata": {},
   "source": [
    "### Plots"
   ]
  },
  {
   "cell_type": "code",
   "execution_count": 17,
   "metadata": {},
   "outputs": [],
   "source": [
    "# Alternatively, if you have the numpy objects and dont want to check for yourself\n",
    "# FB = np.linspace(7.75, 4.5, 15)\n",
    "# LEXs = np.linspace(0.175, 1.25, 15) / 0.15\n",
    "#\n",
    "# FBr = FB / 7.75\n",
    "#\n",
    "# Lcp = np.load(\"drafts/Lcp.npy\")\n",
    "# Lslope = np.load(\"drafts/Lslope.npy\")\n",
    "# LRTs = np.load(\"drafts/LRT.npy\")\n",
    "#\n",
    "# Bcp = np.load(\"drafts/Bcp.npy\")\n",
    "# Bslope = np.load(\"drafts/Bslope.npy\")\n",
    "# BRTs = np.load(\"drafts/BRT.npy\")\n",
    "#\n",
    "# PRcp = np.load(\"drafts/PRcp.npy\")\n",
    "# PRslope = np.load(\"drafts/PRslope.npy\")\n",
    "# PRRTs = np.load(\"drafts/PRRT.npy\")"
   ]
  },
  {
   "cell_type": "code",
   "execution_count": 84,
   "metadata": {},
   "outputs": [],
   "source": [
    "LEXs = np.linspace(0, 3, 15)\n",
    "FBs = np.linspace(4.5, 6.55, 15)"
   ]
  },
  {
   "cell_type": "code",
   "execution_count": 28,
   "metadata": {},
   "outputs": [
    {
     "name": "stdout",
     "output_type": "stream",
     "text": [
      "SCZ data\n",
      "CP: 70.02000000000001\n",
      "Slope 13.333333333333334\n"
     ]
    }
   ],
   "source": [
    "scz_cp = 120 - 1.666 * 30\n",
    "scz_slope = 1 / 0.075\n",
    "\n",
    "print(\"SCZ data\")\n",
    "print(\"CP:\", scz_cp)\n",
    "print(\"Slope\", scz_slope)"
   ]
  },
  {
   "cell_type": "code",
   "execution_count": 98,
   "metadata": {},
   "outputs": [
    {
     "data": {
      "image/png": "[encoded data removed]",
      "text/plain": [
       "<Figure size 1500x800 with 10 Axes>"
      ]
     },
     "metadata": {},
     "output_type": "display_data"
    }
   ],
   "source": [
    "# Plot 2.18\n",
    "\n",
    "fig, ax = plt.subplots(5, 2, figsize=(15, 8), sharey=\"col\")\n",
    "\n",
    "ax[0, 0].plot(FBs, Bcp, label=\"$B_0$\", color=\"k\", marker=\"^\")\n",
    "ax[0, 0].plot(FBs, np.repeat(scz_cp, len(FBs)), \"--\", color=\"k\")\n",
    "ax[0, 0].set_xlim(6.55, 4.5)\n",
    "ax[0, 0].set_title(\"CP values as a function of HC-scaled parameter values\", fontsize=15)\n",
    "ax[0, 0].legend()\n",
    "\n",
    "ax[0, 1].plot(FBs, Bslope, label=\"$B_0$\", color=\"k\", marker=\"^\")\n",
    "ax[0, 1].plot(FBs, np.repeat(scz_slope, len(FBs)), \"--\", color=\"k\")\n",
    "ax[0, 1].set_xlim(6.55, 4.5)\n",
    "ax[0, 1].set_title(\n",
    "    \"Slope values as a function of HC-scaled parameter values\", fontsize=15\n",
    ")\n",
    "\n",
    "ax[1, 0].plot(PRs, PRcp, label=\"FW Pruning\", color=\"k\", marker=\"o\")\n",
    "ax[1, 0].plot(PRs, np.repeat(scz_cp, len(PRs)), \"--\", color=\"k\")\n",
    "ax[1, 0].legend()\n",
    "\n",
    "ax[1, 1].plot(PRs, PRslope, color=\"k\", marker=\"o\")\n",
    "ax[1, 1].plot(PRs, np.repeat(scz_slope, len(PRs)), \"--\", color=\"k\")\n",
    "\n",
    "ax[2, 0].plot(LEXs, Lcp, label=\"$L_{ex}$\", color=\"k\", marker=\"x\")\n",
    "ax[2, 0].plot(LEXs, np.repeat(scz_cp, len(LEXs)), \"--\", color=\"k\")\n",
    "ax[2, 0].legend()\n",
    "ax[2, 1].plot(LEXs, Lslope, color=\"k\", marker=\"x\")\n",
    "ax[2, 1].plot(LEXs, np.repeat(scz_slope, len(LEXs)), \"--\", color=\"k\")\n",
    "\n",
    "\n",
    "ax[3, 0].plot(CMs, CMcp, label=\"$\\Phi_{rm}$\", color=\"k\", marker=\"v\")\n",
    "ax[3, 0].plot(CMs, np.repeat(scz_cp, len(CMs)), \"--\", color=\"k\")\n",
    "ax[3, 0].legend()\n",
    "ax[3, 1].plot(CMs, CMslope, color=\"k\", marker=\"v\")\n",
    "ax[3, 1].plot(CMs, np.repeat(scz_slope, len(CMs)), \"--\", color=\"k\")\n",
    "\n",
    "ax[4, 0].plot(CM_PRs, CM_PRcp, label=\"CM Pruning\", color=\"k\", marker=\"o\")\n",
    "ax[4, 0].plot(CM_PRs, np.repeat(scz_cp, len(CM_PRs)), \"--\", color=\"k\")\n",
    "ax[4, 0].legend()\n",
    "\n",
    "ax[4, 1].plot(CM_PRs, CM_PRslope, color=\"k\", marker=\"o\")\n",
    "ax[4, 1].plot(CM_PRs, np.repeat(scz_slope, len(CM_PRs)), \"--\", color=\"k\")\n",
    "\n",
    "\n",
    "fig.text(0.51, 0.075, \"Scaled Range\", ha=\"center\", fontsize=15)\n",
    "fig.text(0.08, 0.5, \"CP\", va=\"center\", rotation=\"vertical\", fontsize=13)\n",
    "fig.text(0.5, 0.5, \"Slope\", va=\"center\", rotation=\"vertical\", fontsize=13)\n",
    "\n",
    "plt.show()"
   ]
  }
 ],
 "metadata": {
  "kernelspec": {
   "display_name": "Python 3",
   "language": "python",
   "name": "python3"
  },
  "language_info": {
   "codemirror_mode": {
    "name": "ipython",
    "version": 3
   },
   "file_extension": ".py",
   "mimetype": "text/x-python",
   "name": "python",
   "nbconvert_exporter": "python",
   "pygments_lexer": "ipython3",
   "version": "3.11.6"
  },
  "orig_nbformat": 4,
  "vscode": {
   "interpreter": {
    "hash": "e7370f93d1d0cde622a1f8e1c04877d8463912d04d973331ad4851f04de6915a"
   }
  }
 },
 "nbformat": 4,
 "nbformat_minor": 2
}
