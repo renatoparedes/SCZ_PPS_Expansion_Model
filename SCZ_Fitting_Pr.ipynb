{
 "cells": [
  {
   "cell_type": "code",
   "execution_count": 1,
   "metadata": {},
   "outputs": [
    {
     "name": "stderr",
     "output_type": "stream",
     "text": [
      "/home/renato/.virtualenvs/pps/lib/python3.11/site-packages/nbformat/__init__.py:93: MissingIDFieldWarning: Code cell is missing an id field, this will become a hard error in future nbformat versions. You may want to use `normalize()` on your notebooks before validations (available since nbformat 5.1.4). Previous versions of nbformat are fixing this issue transparently, and will stop doing so in the future.\n",
      "  validate(nb)\n",
      "/tmp/ipykernel_70544/1247435164.py:5: DeprecationWarning: \n",
      "Pyarrow will become a required dependency of pandas in the next major release of pandas (pandas 3.0),\n",
      "(to allow more performant data types, such as the Arrow string type, and better interoperability with other libraries)\n",
      "but was not found to be installed on your system.\n",
      "If this would cause problems for you,\n",
      "please provide us feedback at https://github.com/pandas-dev/pandas/issues/54466\n",
      "        \n",
      "  import pandas as pd\n"
     ]
    }
   ],
   "source": [
    "%run ./PPS_Expansion_Model.ipynb"
   ]
  },
  {
   "cell_type": "code",
   "execution_count": 4,
   "metadata": {},
   "outputs": [
    {
     "data": {
      "text/plain": [
       "<matplotlib.collections.PathCollection at 0x7f4f5e0dd790>"
      ]
     },
     "execution_count": 4,
     "metadata": {},
     "output_type": "execute_result"
    },
    {
     "data": {
      "image/png": "[encoded data removed]",
      "text/plain": [
       "<Figure size 640x480 with 1 Axes>"
      ]
     },
     "metadata": {},
     "output_type": "display_data"
    }
   ],
   "source": [
    "# Distance points in cm (network coordinates)\n",
    "s_distances = np.asarray([2700, 2200, 1500, 800, 300]) / 1000\n",
    "s_distances_sec = np.linspace(s_distances[0], s_distances[-1], 15)\n",
    "v = 30  # cm/s\n",
    "mydistances = 100 - s_distances_sec * v  # distance points in cm (network coordinates)\n",
    "\n",
    "ts = 0.4\n",
    "simtime = 200\n",
    "\n",
    "##Pre-Training\n",
    "###Healthy Controls\n",
    "ymin = 366\n",
    "ymax = 403\n",
    "scz_cp = 100 - 1.666 * 30\n",
    "scz_slope = 1 / 0.075\n",
    "\n",
    "SCZ_RTs = RTsig(mydistances, scz_cp, scz_slope)\n",
    "plt.scatter(mydistances, SCZ_RTs)"
   ]
  },
  {
   "cell_type": "code",
   "execution_count": 6,
   "metadata": {},
   "outputs": [
    {
     "name": "stdout",
     "output_type": "stream",
     "text": [
      "differential_evolution step 1: f(x)= 63.664913728180665\n",
      "differential_evolution step 2: f(x)= 63.664913728180665\n",
      "differential_evolution step 3: f(x)= 63.664913728180665\n",
      "differential_evolution step 4: f(x)= 45.59500873558707\n",
      "differential_evolution step 5: f(x)= 45.59500873558707\n",
      "differential_evolution step 6: f(x)= 45.59500873558707\n",
      "differential_evolution step 7: f(x)= 45.59500873558707\n",
      "differential_evolution step 8: f(x)= 45.59500873558707\n",
      "differential_evolution step 9: f(x)= 45.59500873558707\n",
      "differential_evolution step 10: f(x)= 45.59500873558707\n",
      "differential_evolution step 11: f(x)= 45.59500873558707\n",
      "differential_evolution step 12: f(x)= 45.59500873558707\n",
      "differential_evolution step 13: f(x)= 45.59500873558707\n",
      "differential_evolution step 14: f(x)= 45.59500873558707\n"
     ]
    }
   ],
   "source": [
    "from scipy.optimize import differential_evolution\n",
    "\n",
    "HCWat, HCWvt, HCWav = crossmodal(0.05, 2, 0.05, 2, 0.05, 2)\n",
    "HCWt, HCWa, HCWv, HCBt, HCBa, HCBv = FwFb(\n",
    "    6.5, 6.5, 6.5, 6.55, 6.55, 6.55, 1.083e01, 5.076e02, 3.226e01, 9.968e-01\n",
    ")\n",
    "HCLt, HCLa, HCLv = Lw(0.15, 0.05, 1, 4, 0.15, 0.05, 20, 80, 0.15, 0.05, 2, 8)\n",
    "\n",
    "\n",
    "def sczmodelrun(theta):\n",
    "    _, _, _, _, SCZrt = experiment(\n",
    "        ts,\n",
    "        simtime,\n",
    "        mydistances,\n",
    "        5,\n",
    "        HCLt,\n",
    "        HCLa,\n",
    "        HCLv,\n",
    "        HCWt,\n",
    "        HCWa,\n",
    "        HCWv,\n",
    "        HCBt,\n",
    "        HCBa,\n",
    "        HCBv,\n",
    "        HCWat,\n",
    "        HCWvt,\n",
    "        HCWav,\n",
    "        theta[0],\n",
    "        0,\n",
    "    )\n",
    "\n",
    "    xf = SCZrt\n",
    "    yf = SCZ_RTs\n",
    "\n",
    "    m = (xf.size * np.sum(xf * yf) - np.sum(xf) * np.sum(yf)) / (\n",
    "        xf.size * np.sum(xf * xf) - np.sum(xf) ** 2\n",
    "    )\n",
    "    bias = (np.sum(yf) - m * np.sum(xf)) / xf.size\n",
    "\n",
    "    if bias < 0:\n",
    "        bias = 0\n",
    "    if m < 0:\n",
    "        m = 0\n",
    "\n",
    "    cost = np.sum(np.square(np.divide(yf - (m * xf + bias), yf)))\n",
    "\n",
    "    return cost * 100000\n",
    "\n",
    "\n",
    "bounds = [(0, 6.5)]\n",
    "sczres = differential_evolution(\n",
    "    sczmodelrun, bounds, disp=True, workers=-1, updating=\"deferred\", polish=False\n",
    ")"
   ]
  },
  {
   "cell_type": "code",
   "execution_count": 8,
   "metadata": {},
   "outputs": [
    {
     "name": "stdout",
     "output_type": "stream",
     "text": [
      "             message: Optimization terminated successfully.\n",
      "             success: True\n",
      "                 fun: 45.59500873558707\n",
      "                   x: [ 2.586e-02]\n",
      "                 nit: 14\n",
      "                nfev: 225\n",
      "          population: [[ 2.586e-02]\n",
      "                       [ 1.637e-02]\n",
      "                       ...\n",
      "                       [ 1.740e-02]\n",
      "                       [ 1.564e-02]]\n",
      " population_energies: [ 4.560e+01  4.560e+01 ...  4.560e+01  4.560e+01]\n"
     ]
    }
   ],
   "source": [
    "print(sczres)"
   ]
  },
  {
   "cell_type": "code",
   "execution_count": 9,
   "metadata": {},
   "outputs": [],
   "source": [
    "## Fitted model\n",
    "\n",
    "Pr = 2.586e-02\n",
    "\n",
    "HCLt, HCLa, HCLv = Lw(0.15, 0.05, 1, 4, 0.15, 0.05, 20, 80, 0.15, 0.05, 2, 8)\n",
    "HCWat, HCWvt, HCWav = crossmodal(0.05, 2, 0.05, 2, 0.05, 2)\n",
    "HCWt, HCWa, HCWv, HCBt, HCBa, HCBv = FwFb(\n",
    "    6.5, 6.5, 6.5, 6.55, 6.55, 6.55, 1.083e01, 5.076e02, 3.226e01, 9.968e-01\n",
    ")\n",
    "_, _, _, _, SCZ_Model_RTs = experiment(\n",
    "    ts,\n",
    "    simtime,\n",
    "    mydistances,\n",
    "    5,\n",
    "    HCLt,\n",
    "    HCLa,\n",
    "    HCLv,\n",
    "    HCWt,\n",
    "    HCWa,\n",
    "    HCWv,\n",
    "    HCBt,\n",
    "    HCBa,\n",
    "    HCBv,\n",
    "    HCWat,\n",
    "    HCWvt,\n",
    "    HCWav,\n",
    "    Pr,\n",
    "    0,\n",
    ")"
   ]
  },
  {
   "cell_type": "code",
   "execution_count": 13,
   "metadata": {},
   "outputs": [
    {
     "name": "stdout",
     "output_type": "stream",
     "text": [
      "0.28471973592626965 353.7584503808144\n"
     ]
    },
    {
     "data": {
      "image/png": "[encoded data removed]",
      "text/plain": [
       "<Figure size 640x480 with 1 Axes>"
      ]
     },
     "metadata": {},
     "output_type": "display_data"
    }
   ],
   "source": [
    "xf = SCZ_Model_RTs\n",
    "yf = SCZ_RTs\n",
    "m = (xf.size * np.sum(xf * yf) - np.sum(xf) * np.sum(yf)) / (\n",
    "    xf.size * np.sum(xf * xf) - np.sum(xf) ** 2\n",
    ")\n",
    "bias = (np.sum(yf) - m * np.sum(xf)) / xf.size\n",
    "\n",
    "ymin, ymax = np.min(m * xf + bias), np.max(m * xf + bias)\n",
    "dc, h = fitting(mydistances, m * xf + bias)\n",
    "mydistances_exp = np.linspace(mydistances[0], mydistances[-1], 30)\n",
    "yf_exp = RTsig(mydistances_exp, dc, h)\n",
    "\n",
    "plt.figure(1)\n",
    "plt.plot(mydistances_exp, yf_exp, label=\"SCZ FW Prunning Model\", color=\"r\")\n",
    "plt.scatter(mydistances, yf, label=\"SCZ Data\", color=\"r\")\n",
    "plt.legend()\n",
    "print(m, bias)"
   ]
  },
  {
   "cell_type": "code",
   "execution_count": 11,
   "metadata": {},
   "outputs": [
    {
     "name": "stdout",
     "output_type": "stream",
     "text": [
      "2.0877135903106225\n"
     ]
    }
   ],
   "source": [
    "from sklearn import metrics\n",
    "\n",
    "print(metrics.root_mean_squared_error(yf, m * xf + bias))"
   ]
  },
  {
   "cell_type": "code",
   "execution_count": 12,
   "metadata": {},
   "outputs": [
    {
     "name": "stdout",
     "output_type": "stream",
     "text": [
      "2.334134752742349\n"
     ]
    }
   ],
   "source": [
    "def adjrmse(model, data, k):\n",
    "    sse = np.sum(np.square(data - model))\n",
    "    n = len(model)\n",
    "    return np.sqrt(sse / (n - k))\n",
    "\n",
    "\n",
    "scz_error = adjrmse(m * xf + bias, yf, 3)\n",
    "print(scz_error)"
   ]
  }
 ],
 "metadata": {
  "kernelspec": {
   "display_name": "pps",
   "language": "python",
   "name": "python3"
  },
  "language_info": {
   "codemirror_mode": {
    "name": "ipython",
    "version": 3
   },
   "file_extension": ".py",
   "mimetype": "text/x-python",
   "name": "python",
   "nbconvert_exporter": "python",
   "pygments_lexer": "ipython3",
   "version": "3.11.9"
  }
 },
 "nbformat": 4,
 "nbformat_minor": 2
}
