{
 "cells": [
  {
   "cell_type": "code",
   "execution_count": 1,
   "metadata": {},
   "outputs": [
    {
     "name": "stderr",
     "output_type": "stream",
     "text": [
      "/home/renato/.virtualenvs/pps/lib/python3.11/site-packages/nbformat/__init__.py:93: MissingIDFieldWarning: Code cell is missing an id field, this will become a hard error in future nbformat versions. You may want to use `normalize()` on your notebooks before validations (available since nbformat 5.1.4). Previous versions of nbformat are fixing this issue transparently, and will stop doing so in the future.\n",
      "  validate(nb)\n",
      "/tmp/ipykernel_17925/1247435164.py:5: DeprecationWarning: \n",
      "Pyarrow will become a required dependency of pandas in the next major release of pandas (pandas 3.0),\n",
      "(to allow more performant data types, such as the Arrow string type, and better interoperability with other libraries)\n",
      "but was not found to be installed on your system.\n",
      "If this would cause problems for you,\n",
      "please provide us feedback at https://github.com/pandas-dev/pandas/issues/54466\n",
      "        \n",
      "  import pandas as pd\n"
     ]
    }
   ],
   "source": [
    "%run ./Vlad_Dissertation.ipynb"
   ]
  },
  {
   "cell_type": "code",
   "execution_count": 3,
   "metadata": {},
   "outputs": [
    {
     "data": {
      "text/plain": [
       "<matplotlib.collections.PathCollection at 0x7f8c404241d0>"
      ]
     },
     "execution_count": 3,
     "metadata": {},
     "output_type": "execute_result"
    },
    {
     "data": {
      "image/png": "[encoded data removed]",
      "text/plain": [
       "<Figure size 640x480 with 1 Axes>"
      ]
     },
     "metadata": {},
     "output_type": "display_data"
    }
   ],
   "source": [
    "# Distance points in cm (network coordinates)\n",
    "s_distances = np.asarray([2700, 2200, 1500, 800, 300]) / 1000\n",
    "s_distances_sec = np.linspace(s_distances[0], s_distances[-1], 15)\n",
    "v = 30  # cm/s\n",
    "mydistances = 100 - s_distances_sec * v  # distance points in cm (network coordinates)\n",
    "\n",
    "ts = 0.4\n",
    "simtime = 200\n",
    "\n",
    "##Pre-Training\n",
    "###Healthy Controls\n",
    "ymin = 366\n",
    "ymax = 403\n",
    "scz_cp = 100 - 1.666 * 30\n",
    "scz_slope = 1 / 0.075\n",
    "\n",
    "SCZ_RTs = RTsig(mydistances, scz_cp, scz_slope)\n",
    "plt.scatter(mydistances, SCZ_RTs)"
   ]
  },
  {
   "cell_type": "code",
   "execution_count": 4,
   "metadata": {},
   "outputs": [
    {
     "name": "stdout",
     "output_type": "stream",
     "text": [
      "differential_evolution step 1: f(x)= 14.023310937334427\n",
      "differential_evolution step 2: f(x)= 14.023310937334427\n",
      "differential_evolution step 3: f(x)= 14.023310937334427\n",
      "differential_evolution step 4: f(x)= 13.8681991614288\n",
      "differential_evolution step 5: f(x)= 13.339119212388566\n",
      "differential_evolution step 6: f(x)= 12.975886198517301\n",
      "differential_evolution step 7: f(x)= 12.975886198517182\n",
      "differential_evolution step 8: f(x)= 12.975886198517182\n",
      "differential_evolution step 9: f(x)= 12.975886198517182\n",
      "differential_evolution step 10: f(x)= 12.975886198517182\n",
      "differential_evolution step 11: f(x)= 12.975886198517182\n",
      "differential_evolution step 12: f(x)= 12.975886198517182\n",
      "differential_evolution step 13: f(x)= 12.975886198517182\n"
     ]
    }
   ],
   "source": [
    "from scipy.optimize import differential_evolution\n",
    "\n",
    "HCWat, HCWvt, HCWav = crossmodal(1.3, 2, 1.3, 2, 1.3, 2)\n",
    "HCLt, HCLa, HCLv = Lw(0.15, 0.05, 1, 4, 0.15, 0.05, 20, 80, 0.15, 0.05, 2, 8)\n",
    "\n",
    "\n",
    "def sczmodelrun(theta):\n",
    "    HCWt, HCWa, HCWv, SCZBt, SCZBa, SCZBv = FwFb(\n",
    "        6.5,\n",
    "        6.5,\n",
    "        6.5,\n",
    "        theta[0],\n",
    "        theta[0],\n",
    "        theta[0],\n",
    "        1.185e01,\n",
    "        7.769e02,\n",
    "        3.881e01,\n",
    "        9.517e-01,\n",
    "    )\n",
    "    _, _, _, _, SCZrt = experiment(\n",
    "        ts,\n",
    "        simtime,\n",
    "        mydistances,\n",
    "        5,\n",
    "        HCLt,\n",
    "        HCLa,\n",
    "        HCLv,\n",
    "        HCWt,\n",
    "        HCWa,\n",
    "        HCWv,\n",
    "        SCZBt,\n",
    "        SCZBa,\n",
    "        SCZBv,\n",
    "        HCWat,\n",
    "        HCWvt,\n",
    "        HCWav,\n",
    "        0,\n",
    "        0,\n",
    "    )\n",
    "\n",
    "    xf = SCZrt\n",
    "    yf = SCZ_RTs\n",
    "\n",
    "    m = (xf.size * np.sum(xf * yf) - np.sum(xf) * np.sum(yf)) / (\n",
    "        xf.size * np.sum(xf * xf) - np.sum(xf) ** 2\n",
    "    )\n",
    "    bias = (np.sum(yf) - m * np.sum(xf)) / xf.size\n",
    "\n",
    "    if bias < 0:\n",
    "        bias = 0\n",
    "    if m < 0:\n",
    "        m = 0\n",
    "\n",
    "    cost = np.sum(np.square(np.divide(yf - (m * xf + bias), yf)))\n",
    "\n",
    "    return cost * 100000\n",
    "\n",
    "\n",
    "bounds = [(4.5, 6.55)]\n",
    "sczres = differential_evolution(\n",
    "    sczmodelrun, bounds, disp=True, workers=-1, updating=\"deferred\", polish=False\n",
    ")"
   ]
  },
  {
   "cell_type": "code",
   "execution_count": 5,
   "metadata": {},
   "outputs": [
    {
     "name": "stdout",
     "output_type": "stream",
     "text": [
      "             message: Optimization terminated successfully.\n",
      "             success: True\n",
      "                 fun: 12.975886198517182\n",
      "                   x: [ 4.617e+00]\n",
      "                 nit: 13\n",
      "                nfev: 210\n",
      "          population: [[ 4.617e+00]\n",
      "                       [ 4.633e+00]\n",
      "                       ...\n",
      "                       [ 4.617e+00]\n",
      "                       [ 4.622e+00]]\n",
      " population_energies: [ 1.298e+01  1.329e+01 ...  1.298e+01  1.324e+01]\n"
     ]
    }
   ],
   "source": [
    "print(sczres)"
   ]
  },
  {
   "cell_type": "code",
   "execution_count": 7,
   "metadata": {},
   "outputs": [],
   "source": [
    "## Fitted model\n",
    "\n",
    "B0 = 4.617e00\n",
    "\n",
    "HCLt, HCLa, HCLv = Lw(0.15, 0.05, 1, 4, 0.15, 0.05, 20, 80, 0.15, 0.05, 2, 8)\n",
    "HCWat, HCWvt, HCWav = crossmodal(1.3, 2, 1.3, 2, 1.3, 2)\n",
    "HCWt, HCWa, HCWv, SCZBt, SCZBa, SCZBv = FwFb(\n",
    "    6.5, 6.5, 6.5, B0, B0, B0, 1.185e01, 7.769e02, 3.881e01, 9.517e-01\n",
    ")\n",
    "_, _, _, _, SCZ_Model_RTs = experiment(\n",
    "    ts,\n",
    "    simtime,\n",
    "    mydistances,\n",
    "    5,\n",
    "    HCLt,\n",
    "    HCLa,\n",
    "    HCLv,\n",
    "    HCWt,\n",
    "    HCWa,\n",
    "    HCWv,\n",
    "    SCZBt,\n",
    "    SCZBa,\n",
    "    SCZBv,\n",
    "    HCWat,\n",
    "    HCWvt,\n",
    "    HCWav,\n",
    "    0,\n",
    "    0,\n",
    ")"
   ]
  },
  {
   "cell_type": "code",
   "execution_count": 8,
   "metadata": {},
   "outputs": [
    {
     "name": "stdout",
     "output_type": "stream",
     "text": [
      "1.0205586447679442 267.94992256022084\n"
     ]
    },
    {
     "data": {
      "image/png": "[encoded data removed]",
      "text/plain": [
       "<Figure size 640x480 with 1 Axes>"
      ]
     },
     "metadata": {},
     "output_type": "display_data"
    }
   ],
   "source": [
    "xf = SCZ_Model_RTs\n",
    "yf = SCZ_RTs\n",
    "m = (xf.size * np.sum(xf * yf) - np.sum(xf) * np.sum(yf)) / (\n",
    "    xf.size * np.sum(xf * xf) - np.sum(xf) ** 2\n",
    ")\n",
    "bias = (np.sum(yf) - m * np.sum(xf)) / xf.size\n",
    "\n",
    "ymin, ymax = np.min(m * xf + bias), np.max(m * xf + bias)\n",
    "dc, h = fitting(mydistances, m * xf + bias)\n",
    "mydistances_exp = np.linspace(mydistances[0], mydistances[-1], 30)\n",
    "yf_exp = RTsig(mydistances_exp, dc, h)\n",
    "\n",
    "plt.figure(1)\n",
    "plt.plot(mydistances_exp, yf_exp, label=\"SCZ $B_0$ Model\", color=\"r\")\n",
    "plt.scatter(mydistances, yf, label=\"SCZ Data\", color=\"r\")\n",
    "plt.legend()\n",
    "print(m, bias)"
   ]
  },
  {
   "cell_type": "code",
   "execution_count": 9,
   "metadata": {},
   "outputs": [
    {
     "name": "stdout",
     "output_type": "stream",
     "text": [
      "1.1675936902928232\n"
     ]
    }
   ],
   "source": [
    "from sklearn import metrics\n",
    "\n",
    "print(metrics.root_mean_squared_error(yf, m * xf + bias))"
   ]
  },
  {
   "cell_type": "code",
   "execution_count": 10,
   "metadata": {},
   "outputs": [
    {
     "name": "stdout",
     "output_type": "stream",
     "text": [
      "1.3054094307972945\n"
     ]
    }
   ],
   "source": [
    "def adjrmse(model, data, k):\n",
    "    sse = np.sum(np.square(data - model))\n",
    "    n = len(model)\n",
    "    return np.sqrt(sse / (n - k))\n",
    "\n",
    "\n",
    "scz_error = adjrmse(m * xf + bias, yf, 3)\n",
    "print(scz_error)"
   ]
  }
 ],
 "metadata": {
  "kernelspec": {
   "display_name": "pps",
   "language": "python",
   "name": "python3"
  },
  "language_info": {
   "codemirror_mode": {
    "name": "ipython",
    "version": 3
   },
   "file_extension": ".py",
   "mimetype": "text/x-python",
   "name": "python",
   "nbconvert_exporter": "python",
   "pygments_lexer": "ipython3",
   "version": "3.11.6"
  }
 },
 "nbformat": 4,
 "nbformat_minor": 2
}
