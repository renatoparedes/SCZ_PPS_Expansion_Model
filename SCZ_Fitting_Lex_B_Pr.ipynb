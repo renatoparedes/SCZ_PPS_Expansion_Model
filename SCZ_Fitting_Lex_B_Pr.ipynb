{
 "cells": [
  {
   "cell_type": "code",
   "execution_count": 1,
   "metadata": {},
   "outputs": [
    {
     "name": "stderr",
     "output_type": "stream",
     "text": [
      "/home/renato/.virtualenvs/pps/lib/python3.11/site-packages/nbformat/__init__.py:93: MissingIDFieldWarning: Code cell is missing an id field, this will become a hard error in future nbformat versions. You may want to use `normalize()` on your notebooks before validations (available since nbformat 5.1.4). Previous versions of nbformat are fixing this issue transparently, and will stop doing so in the future.\n",
      "  validate(nb)\n",
      "/tmp/ipykernel_24293/1247435164.py:5: DeprecationWarning: \n",
      "Pyarrow will become a required dependency of pandas in the next major release of pandas (pandas 3.0),\n",
      "(to allow more performant data types, such as the Arrow string type, and better interoperability with other libraries)\n",
      "but was not found to be installed on your system.\n",
      "If this would cause problems for you,\n",
      "please provide us feedback at https://github.com/pandas-dev/pandas/issues/54466\n",
      "        \n",
      "  import pandas as pd\n"
     ]
    }
   ],
   "source": [
    "%run ./Vlad_Dissertation.ipynb"
   ]
  },
  {
   "cell_type": "code",
   "execution_count": 2,
   "metadata": {},
   "outputs": [
    {
     "data": {
      "text/plain": [
       "<matplotlib.collections.PathCollection at 0x7f8fc0eada10>"
      ]
     },
     "execution_count": 2,
     "metadata": {},
     "output_type": "execute_result"
    },
    {
     "data": {
      "image/png": "[encoded data removed]",
      "text/plain": [
       "<Figure size 640x480 with 1 Axes>"
      ]
     },
     "metadata": {},
     "output_type": "display_data"
    }
   ],
   "source": [
    "# Distance points in cm (network coordinates)\n",
    "s_distances = np.asarray([2700, 2200, 1500, 800, 300]) / 1000\n",
    "s_distances_sec = np.linspace(s_distances[0], s_distances[-1], 15)\n",
    "v = 30  # cm/s\n",
    "mydistances = 100 - s_distances_sec * v  # distance points in cm (network coordinates)\n",
    "\n",
    "ts = 0.4\n",
    "simtime = 200\n",
    "\n",
    "##Pre-Training\n",
    "###Healthy Controls\n",
    "ymin = 366\n",
    "ymax = 403\n",
    "scz_cp = 100 - 1.666 * 30\n",
    "scz_slope = 1 / 0.075\n",
    "\n",
    "SCZ_RTs = RTsig(mydistances, scz_cp, scz_slope)\n",
    "plt.scatter(mydistances, SCZ_RTs)"
   ]
  },
  {
   "cell_type": "code",
   "execution_count": 3,
   "metadata": {},
   "outputs": [
    {
     "name": "stderr",
     "output_type": "stream",
     "text": [
      "/tmp/ipykernel_24293/1941110757.py:43: RuntimeWarning: overflow encountered in exp\n",
      "  psim = (fmin_m + fmax_m * np.exp((qm - qc_m) * r_m)) / (\n",
      "/tmp/ipykernel_24293/1941110757.py:44: RuntimeWarning: overflow encountered in exp\n",
      "  1 + np.exp((qm - qc_m) * r_m)\n",
      "/tmp/ipykernel_24293/1941110757.py:43: RuntimeWarning: invalid value encountered in scalar divide\n",
      "  psim = (fmin_m + fmax_m * np.exp((qm - qc_m) * r_m)) / (\n",
      "/tmp/ipykernel_24293/1941110757.py:43: RuntimeWarning: overflow encountered in exp\n",
      "  psim = (fmin_m + fmax_m * np.exp((qm - qc_m) * r_m)) / (\n",
      "/tmp/ipykernel_24293/1941110757.py:43: RuntimeWarning: overflow encountered in exp\n",
      "  psim = (fmin_m + fmax_m * np.exp((qm - qc_m) * r_m)) / (\n",
      "/tmp/ipykernel_24293/1941110757.py:44: RuntimeWarning: overflow encountered in exp\n",
      "  1 + np.exp((qm - qc_m) * r_m)\n",
      "/tmp/ipykernel_24293/1941110757.py:44: RuntimeWarning: overflow encountered in exp\n",
      "  1 + np.exp((qm - qc_m) * r_m)\n",
      "/tmp/ipykernel_24293/1941110757.py:43: RuntimeWarning: invalid value encountered in scalar divide\n",
      "  psim = (fmin_m + fmax_m * np.exp((qm - qc_m) * r_m)) / (\n",
      "/tmp/ipykernel_24293/1941110757.py:43: RuntimeWarning: invalid value encountered in scalar divide\n",
      "  psim = (fmin_m + fmax_m * np.exp((qm - qc_m) * r_m)) / (\n",
      "/tmp/ipykernel_24293/1941110757.py:43: RuntimeWarning: overflow encountered in exp\n",
      "  psim = (fmin_m + fmax_m * np.exp((qm - qc_m) * r_m)) / (\n",
      "/tmp/ipykernel_24293/1941110757.py:44: RuntimeWarning: overflow encountered in exp\n",
      "  1 + np.exp((qm - qc_m) * r_m)\n",
      "/tmp/ipykernel_24293/1941110757.py:43: RuntimeWarning: overflow encountered in exp\n",
      "  psim = (fmin_m + fmax_m * np.exp((qm - qc_m) * r_m)) / (\n",
      "/tmp/ipykernel_24293/1941110757.py:43: RuntimeWarning: invalid value encountered in scalar divide\n",
      "  psim = (fmin_m + fmax_m * np.exp((qm - qc_m) * r_m)) / (\n",
      "/tmp/ipykernel_24293/1941110757.py:44: RuntimeWarning: overflow encountered in exp\n",
      "  1 + np.exp((qm - qc_m) * r_m)\n",
      "/tmp/ipykernel_24293/1941110757.py:43: RuntimeWarning: overflow encountered in exp\n",
      "  psim = (fmin_m + fmax_m * np.exp((qm - qc_m) * r_m)) / (\n",
      "/tmp/ipykernel_24293/1941110757.py:43: RuntimeWarning: invalid value encountered in scalar divide\n",
      "  psim = (fmin_m + fmax_m * np.exp((qm - qc_m) * r_m)) / (\n",
      "/tmp/ipykernel_24293/1941110757.py:44: RuntimeWarning: overflow encountered in exp\n",
      "  1 + np.exp((qm - qc_m) * r_m)\n",
      "/tmp/ipykernel_24293/1941110757.py:43: RuntimeWarning: invalid value encountered in scalar divide\n",
      "  psim = (fmin_m + fmax_m * np.exp((qm - qc_m) * r_m)) / (\n",
      "/tmp/ipykernel_24293/1941110757.py:43: RuntimeWarning: overflow encountered in exp\n",
      "  psim = (fmin_m + fmax_m * np.exp((qm - qc_m) * r_m)) / (\n",
      "/tmp/ipykernel_24293/1941110757.py:43: RuntimeWarning: overflow encountered in exp\n",
      "  psim = (fmin_m + fmax_m * np.exp((qm - qc_m) * r_m)) / (\n",
      "/tmp/ipykernel_24293/1941110757.py:44: RuntimeWarning: overflow encountered in exp\n",
      "  1 + np.exp((qm - qc_m) * r_m)\n",
      "/tmp/ipykernel_24293/1941110757.py:44: RuntimeWarning: overflow encountered in exp\n",
      "  1 + np.exp((qm - qc_m) * r_m)\n",
      "/tmp/ipykernel_24293/1941110757.py:43: RuntimeWarning: invalid value encountered in scalar divide\n",
      "  psim = (fmin_m + fmax_m * np.exp((qm - qc_m) * r_m)) / (\n",
      "/tmp/ipykernel_24293/1941110757.py:43: RuntimeWarning: overflow encountered in exp\n",
      "  psim = (fmin_m + fmax_m * np.exp((qm - qc_m) * r_m)) / (\n",
      "/tmp/ipykernel_24293/1941110757.py:43: RuntimeWarning: invalid value encountered in scalar divide\n",
      "  psim = (fmin_m + fmax_m * np.exp((qm - qc_m) * r_m)) / (\n",
      "/tmp/ipykernel_24293/1941110757.py:43: RuntimeWarning: overflow encountered in exp\n",
      "  psim = (fmin_m + fmax_m * np.exp((qm - qc_m) * r_m)) / (\n",
      "/tmp/ipykernel_24293/1941110757.py:44: RuntimeWarning: overflow encountered in exp\n",
      "  1 + np.exp((qm - qc_m) * r_m)\n",
      "/tmp/ipykernel_24293/1941110757.py:44: RuntimeWarning: overflow encountered in exp\n",
      "  1 + np.exp((qm - qc_m) * r_m)\n",
      "/tmp/ipykernel_24293/1941110757.py:43: RuntimeWarning: invalid value encountered in scalar divide\n",
      "  psim = (fmin_m + fmax_m * np.exp((qm - qc_m) * r_m)) / (\n",
      "/tmp/ipykernel_24293/1941110757.py:43: RuntimeWarning: invalid value encountered in scalar divide\n",
      "  psim = (fmin_m + fmax_m * np.exp((qm - qc_m) * r_m)) / (\n",
      "/tmp/ipykernel_24293/1941110757.py:43: RuntimeWarning: overflow encountered in exp\n",
      "  psim = (fmin_m + fmax_m * np.exp((qm - qc_m) * r_m)) / (\n",
      "/tmp/ipykernel_24293/1941110757.py:44: RuntimeWarning: overflow encountered in exp\n",
      "  1 + np.exp((qm - qc_m) * r_m)\n",
      "/tmp/ipykernel_24293/1941110757.py:43: RuntimeWarning: invalid value encountered in scalar divide\n",
      "  psim = (fmin_m + fmax_m * np.exp((qm - qc_m) * r_m)) / (\n",
      "/tmp/ipykernel_24293/1941110757.py:43: RuntimeWarning: overflow encountered in exp\n",
      "  psim = (fmin_m + fmax_m * np.exp((qm - qc_m) * r_m)) / (\n",
      "/tmp/ipykernel_24293/1941110757.py:44: RuntimeWarning: overflow encountered in exp\n",
      "  1 + np.exp((qm - qc_m) * r_m)\n",
      "/tmp/ipykernel_24293/1941110757.py:43: RuntimeWarning: invalid value encountered in scalar divide\n",
      "  psim = (fmin_m + fmax_m * np.exp((qm - qc_m) * r_m)) / (\n",
      "/tmp/ipykernel_24293/1941110757.py:43: RuntimeWarning: overflow encountered in exp\n",
      "  psim = (fmin_m + fmax_m * np.exp((qm - qc_m) * r_m)) / (\n",
      "/tmp/ipykernel_24293/1941110757.py:43: RuntimeWarning: overflow encountered in exp\n",
      "  psim = (fmin_m + fmax_m * np.exp((qm - qc_m) * r_m)) / (\n",
      "/tmp/ipykernel_24293/1941110757.py:44: RuntimeWarning: overflow encountered in exp\n",
      "  1 + np.exp((qm - qc_m) * r_m)\n",
      "/tmp/ipykernel_24293/1941110757.py:43: RuntimeWarning: invalid value encountered in scalar divide\n",
      "  psim = (fmin_m + fmax_m * np.exp((qm - qc_m) * r_m)) / (\n",
      "/tmp/ipykernel_24293/1941110757.py:44: RuntimeWarning: overflow encountered in exp\n",
      "  1 + np.exp((qm - qc_m) * r_m)\n",
      "/tmp/ipykernel_24293/1941110757.py:43: RuntimeWarning: invalid value encountered in scalar divide\n",
      "  psim = (fmin_m + fmax_m * np.exp((qm - qc_m) * r_m)) / (\n",
      "/tmp/ipykernel_24293/1941110757.py:43: RuntimeWarning: overflow encountered in exp\n",
      "  psim = (fmin_m + fmax_m * np.exp((qm - qc_m) * r_m)) / (\n",
      "/tmp/ipykernel_24293/1941110757.py:44: RuntimeWarning: overflow encountered in exp\n",
      "  1 + np.exp((qm - qc_m) * r_m)\n",
      "/tmp/ipykernel_24293/1941110757.py:43: RuntimeWarning: invalid value encountered in scalar divide\n",
      "  psim = (fmin_m + fmax_m * np.exp((qm - qc_m) * r_m)) / (\n",
      "/tmp/ipykernel_24293/1941110757.py:43: RuntimeWarning: overflow encountered in exp\n",
      "  psim = (fmin_m + fmax_m * np.exp((qm - qc_m) * r_m)) / (\n",
      "/tmp/ipykernel_24293/1941110757.py:44: RuntimeWarning: overflow encountered in exp\n",
      "  1 + np.exp((qm - qc_m) * r_m)\n",
      "/tmp/ipykernel_24293/1941110757.py:43: RuntimeWarning: invalid value encountered in scalar divide\n",
      "  psim = (fmin_m + fmax_m * np.exp((qm - qc_m) * r_m)) / (\n",
      "/tmp/ipykernel_24293/1941110757.py:43: RuntimeWarning: overflow encountered in exp\n",
      "  psim = (fmin_m + fmax_m * np.exp((qm - qc_m) * r_m)) / (\n",
      "/tmp/ipykernel_24293/1941110757.py:44: RuntimeWarning: overflow encountered in exp\n",
      "  1 + np.exp((qm - qc_m) * r_m)\n",
      "/tmp/ipykernel_24293/1941110757.py:43: RuntimeWarning: overflow encountered in exp\n",
      "  psim = (fmin_m + fmax_m * np.exp((qm - qc_m) * r_m)) / (\n",
      "/tmp/ipykernel_24293/1941110757.py:43: RuntimeWarning: invalid value encountered in scalar divide\n",
      "  psim = (fmin_m + fmax_m * np.exp((qm - qc_m) * r_m)) / (\n",
      "/tmp/ipykernel_24293/1941110757.py:44: RuntimeWarning: overflow encountered in exp\n",
      "  1 + np.exp((qm - qc_m) * r_m)\n",
      "/tmp/ipykernel_24293/1941110757.py:43: RuntimeWarning: invalid value encountered in scalar divide\n",
      "  psim = (fmin_m + fmax_m * np.exp((qm - qc_m) * r_m)) / (\n",
      "/tmp/ipykernel_24293/1941110757.py:43: RuntimeWarning: overflow encountered in exp\n",
      "  psim = (fmin_m + fmax_m * np.exp((qm - qc_m) * r_m)) / (\n",
      "/tmp/ipykernel_24293/1941110757.py:44: RuntimeWarning: overflow encountered in exp\n",
      "  1 + np.exp((qm - qc_m) * r_m)\n",
      "/tmp/ipykernel_24293/1941110757.py:43: RuntimeWarning: overflow encountered in exp\n",
      "  psim = (fmin_m + fmax_m * np.exp((qm - qc_m) * r_m)) / (\n",
      "/tmp/ipykernel_24293/1941110757.py:44: RuntimeWarning: overflow encountered in exp\n",
      "  1 + np.exp((qm - qc_m) * r_m)\n",
      "/tmp/ipykernel_24293/1941110757.py:43: RuntimeWarning: invalid value encountered in scalar divide\n",
      "  psim = (fmin_m + fmax_m * np.exp((qm - qc_m) * r_m)) / (\n",
      "/tmp/ipykernel_24293/1941110757.py:43: RuntimeWarning: overflow encountered in exp\n",
      "  psim = (fmin_m + fmax_m * np.exp((qm - qc_m) * r_m)) / (\n",
      "/tmp/ipykernel_24293/1941110757.py:43: RuntimeWarning: invalid value encountered in scalar divide\n",
      "  psim = (fmin_m + fmax_m * np.exp((qm - qc_m) * r_m)) / (\n",
      "/tmp/ipykernel_24293/1941110757.py:44: RuntimeWarning: overflow encountered in exp\n",
      "  1 + np.exp((qm - qc_m) * r_m)\n",
      "/tmp/ipykernel_24293/1941110757.py:43: RuntimeWarning: invalid value encountered in scalar divide\n",
      "  psim = (fmin_m + fmax_m * np.exp((qm - qc_m) * r_m)) / (\n",
      "/tmp/ipykernel_24293/1941110757.py:43: RuntimeWarning: overflow encountered in exp\n",
      "  psim = (fmin_m + fmax_m * np.exp((qm - qc_m) * r_m)) / (\n",
      "/tmp/ipykernel_24293/1941110757.py:44: RuntimeWarning: overflow encountered in exp\n",
      "  1 + np.exp((qm - qc_m) * r_m)\n",
      "/tmp/ipykernel_24293/1941110757.py:43: RuntimeWarning: invalid value encountered in scalar divide\n",
      "  psim = (fmin_m + fmax_m * np.exp((qm - qc_m) * r_m)) / (\n",
      "/tmp/ipykernel_24293/1941110757.py:43: RuntimeWarning: overflow encountered in exp\n",
      "  psim = (fmin_m + fmax_m * np.exp((qm - qc_m) * r_m)) / (\n",
      "/tmp/ipykernel_24293/1941110757.py:44: RuntimeWarning: overflow encountered in exp\n",
      "  1 + np.exp((qm - qc_m) * r_m)\n",
      "/tmp/ipykernel_24293/1941110757.py:43: RuntimeWarning: invalid value encountered in scalar divide\n",
      "  psim = (fmin_m + fmax_m * np.exp((qm - qc_m) * r_m)) / (\n",
      "/tmp/ipykernel_24293/1941110757.py:43: RuntimeWarning: overflow encountered in exp\n",
      "  psim = (fmin_m + fmax_m * np.exp((qm - qc_m) * r_m)) / (\n",
      "/tmp/ipykernel_24293/1941110757.py:44: RuntimeWarning: overflow encountered in exp\n",
      "  1 + np.exp((qm - qc_m) * r_m)\n",
      "/tmp/ipykernel_24293/1941110757.py:43: RuntimeWarning: invalid value encountered in scalar divide\n",
      "  psim = (fmin_m + fmax_m * np.exp((qm - qc_m) * r_m)) / (\n",
      "/tmp/ipykernel_24293/1941110757.py:43: RuntimeWarning: overflow encountered in exp\n",
      "  psim = (fmin_m + fmax_m * np.exp((qm - qc_m) * r_m)) / (\n",
      "/tmp/ipykernel_24293/1941110757.py:44: RuntimeWarning: overflow encountered in exp\n",
      "  1 + np.exp((qm - qc_m) * r_m)\n",
      "/tmp/ipykernel_24293/1941110757.py:43: RuntimeWarning: invalid value encountered in scalar divide\n",
      "  psim = (fmin_m + fmax_m * np.exp((qm - qc_m) * r_m)) / (\n",
      "/tmp/ipykernel_24293/1941110757.py:43: RuntimeWarning: overflow encountered in exp\n",
      "  psim = (fmin_m + fmax_m * np.exp((qm - qc_m) * r_m)) / (\n",
      "/tmp/ipykernel_24293/1941110757.py:44: RuntimeWarning: overflow encountered in exp\n",
      "  1 + np.exp((qm - qc_m) * r_m)\n",
      "/tmp/ipykernel_24293/1941110757.py:43: RuntimeWarning: invalid value encountered in scalar divide\n",
      "  psim = (fmin_m + fmax_m * np.exp((qm - qc_m) * r_m)) / (\n",
      "/tmp/ipykernel_24293/1941110757.py:43: RuntimeWarning: overflow encountered in exp\n",
      "  psim = (fmin_m + fmax_m * np.exp((qm - qc_m) * r_m)) / (\n",
      "/tmp/ipykernel_24293/1941110757.py:44: RuntimeWarning: overflow encountered in exp\n",
      "  1 + np.exp((qm - qc_m) * r_m)\n",
      "/tmp/ipykernel_24293/1941110757.py:43: RuntimeWarning: invalid value encountered in scalar divide\n",
      "  psim = (fmin_m + fmax_m * np.exp((qm - qc_m) * r_m)) / (\n",
      "/tmp/ipykernel_24293/1941110757.py:43: RuntimeWarning: overflow encountered in exp\n",
      "  psim = (fmin_m + fmax_m * np.exp((qm - qc_m) * r_m)) / (\n",
      "/tmp/ipykernel_24293/1941110757.py:44: RuntimeWarning: overflow encountered in exp\n",
      "  1 + np.exp((qm - qc_m) * r_m)\n",
      "/tmp/ipykernel_24293/1941110757.py:43: RuntimeWarning: invalid value encountered in scalar divide\n",
      "  psim = (fmin_m + fmax_m * np.exp((qm - qc_m) * r_m)) / (\n",
      "/tmp/ipykernel_24293/1941110757.py:43: RuntimeWarning: overflow encountered in exp\n",
      "  psim = (fmin_m + fmax_m * np.exp((qm - qc_m) * r_m)) / (\n",
      "/tmp/ipykernel_24293/1941110757.py:44: RuntimeWarning: overflow encountered in exp\n",
      "  1 + np.exp((qm - qc_m) * r_m)\n",
      "/tmp/ipykernel_24293/1941110757.py:43: RuntimeWarning: invalid value encountered in scalar divide\n",
      "  psim = (fmin_m + fmax_m * np.exp((qm - qc_m) * r_m)) / (\n",
      "/tmp/ipykernel_24293/1941110757.py:43: RuntimeWarning: overflow encountered in exp\n",
      "  psim = (fmin_m + fmax_m * np.exp((qm - qc_m) * r_m)) / (\n",
      "/tmp/ipykernel_24293/1941110757.py:44: RuntimeWarning: overflow encountered in exp\n",
      "  1 + np.exp((qm - qc_m) * r_m)\n",
      "/tmp/ipykernel_24293/1941110757.py:43: RuntimeWarning: invalid value encountered in scalar divide\n",
      "  psim = (fmin_m + fmax_m * np.exp((qm - qc_m) * r_m)) / (\n"
     ]
    },
    {
     "name": "stdout",
     "output_type": "stream",
     "text": [
      "differential_evolution step 1: f(x)= 23.378680513569762\n"
     ]
    },
    {
     "name": "stderr",
     "output_type": "stream",
     "text": [
      "/tmp/ipykernel_24293/1941110757.py:43: RuntimeWarning: overflow encountered in exp\n",
      "  psim = (fmin_m + fmax_m * np.exp((qm - qc_m) * r_m)) / (\n",
      "/tmp/ipykernel_24293/1941110757.py:44: RuntimeWarning: overflow encountered in exp\n",
      "  1 + np.exp((qm - qc_m) * r_m)\n",
      "/tmp/ipykernel_24293/1941110757.py:43: RuntimeWarning: invalid value encountered in scalar divide\n",
      "  psim = (fmin_m + fmax_m * np.exp((qm - qc_m) * r_m)) / (\n"
     ]
    },
    {
     "name": "stdout",
     "output_type": "stream",
     "text": [
      "differential_evolution step 2: f(x)= 14.523026906723198\n"
     ]
    },
    {
     "name": "stderr",
     "output_type": "stream",
     "text": [
      "/tmp/ipykernel_24293/1941110757.py:43: RuntimeWarning: overflow encountered in exp\n",
      "  psim = (fmin_m + fmax_m * np.exp((qm - qc_m) * r_m)) / (\n",
      "/tmp/ipykernel_24293/1941110757.py:44: RuntimeWarning: overflow encountered in exp\n",
      "  1 + np.exp((qm - qc_m) * r_m)\n",
      "/tmp/ipykernel_24293/1941110757.py:43: RuntimeWarning: invalid value encountered in scalar divide\n",
      "  psim = (fmin_m + fmax_m * np.exp((qm - qc_m) * r_m)) / (\n"
     ]
    },
    {
     "name": "stdout",
     "output_type": "stream",
     "text": [
      "differential_evolution step 3: f(x)= 14.523026906723198\n",
      "differential_evolution step 4: f(x)= 13.790246033069378\n",
      "differential_evolution step 5: f(x)= 13.790246033069378\n",
      "differential_evolution step 6: f(x)= 13.185685277007439\n",
      "differential_evolution step 7: f(x)= 12.354354156630585\n",
      "differential_evolution step 8: f(x)= 10.672737213766299\n",
      "differential_evolution step 9: f(x)= 10.672737213766299\n",
      "differential_evolution step 10: f(x)= 10.672737213766299\n",
      "differential_evolution step 11: f(x)= 10.672737213766105\n",
      "differential_evolution step 12: f(x)= 10.672737213766105\n",
      "differential_evolution step 13: f(x)= 10.672737213766105\n",
      "differential_evolution step 14: f(x)= 10.672737213766105\n",
      "differential_evolution step 15: f(x)= 10.672737213766105\n",
      "differential_evolution step 16: f(x)= 10.672737213766105\n",
      "differential_evolution step 17: f(x)= 10.672737213766105\n",
      "differential_evolution step 18: f(x)= 10.672737213766105\n",
      "differential_evolution step 19: f(x)= 10.672737213766105\n",
      "differential_evolution step 20: f(x)= 10.672737213766105\n",
      "differential_evolution step 21: f(x)= 10.672737213766105\n",
      "differential_evolution step 22: f(x)= 10.672737213766105\n",
      "differential_evolution step 23: f(x)= 10.672737213766105\n",
      "differential_evolution step 24: f(x)= 10.672737213766105\n",
      "differential_evolution step 25: f(x)= 10.672737213766105\n",
      "differential_evolution step 26: f(x)= 10.672737213766105\n",
      "differential_evolution step 27: f(x)= 10.672737213766105\n",
      "differential_evolution step 28: f(x)= 10.672737213766105\n",
      "differential_evolution step 29: f(x)= 10.672737213766105\n",
      "differential_evolution step 30: f(x)= 10.672737213766105\n",
      "differential_evolution step 31: f(x)= 10.672737213766105\n",
      "differential_evolution step 32: f(x)= 10.672737213766105\n",
      "differential_evolution step 33: f(x)= 10.672737213766105\n",
      "differential_evolution step 34: f(x)= 10.672737213766105\n",
      "differential_evolution step 35: f(x)= 10.672737213766105\n",
      "differential_evolution step 36: f(x)= 10.672737213766105\n",
      "differential_evolution step 37: f(x)= 10.672737213766105\n",
      "differential_evolution step 38: f(x)= 10.672737213766105\n",
      "differential_evolution step 39: f(x)= 10.672737213766105\n",
      "differential_evolution step 40: f(x)= 10.672737213766105\n",
      "differential_evolution step 41: f(x)= 10.672737213766105\n",
      "differential_evolution step 42: f(x)= 10.672737213766105\n",
      "differential_evolution step 43: f(x)= 10.672737213766105\n",
      "differential_evolution step 44: f(x)= 10.672737213766105\n",
      "differential_evolution step 45: f(x)= 10.672737213766105\n",
      "differential_evolution step 46: f(x)= 10.672737213765808\n",
      "differential_evolution step 47: f(x)= 10.672737213765808\n",
      "differential_evolution step 48: f(x)= 10.672737213765808\n",
      "differential_evolution step 49: f(x)= 10.672737213765808\n",
      "differential_evolution step 50: f(x)= 10.672737213765808\n",
      "differential_evolution step 51: f(x)= 10.672737213765808\n",
      "differential_evolution step 52: f(x)= 10.672737213765808\n",
      "differential_evolution step 53: f(x)= 10.672737213765808\n",
      "differential_evolution step 54: f(x)= 10.672737213765808\n",
      "differential_evolution step 55: f(x)= 10.672737213765808\n",
      "differential_evolution step 56: f(x)= 10.672737213765808\n",
      "differential_evolution step 57: f(x)= 10.672737213765808\n",
      "differential_evolution step 58: f(x)= 10.672737213765808\n",
      "differential_evolution step 59: f(x)= 10.672737213765808\n",
      "differential_evolution step 60: f(x)= 10.672737213765808\n",
      "differential_evolution step 61: f(x)= 10.672737213765808\n",
      "differential_evolution step 62: f(x)= 10.672737213765808\n",
      "differential_evolution step 63: f(x)= 10.672737213765808\n",
      "differential_evolution step 64: f(x)= 10.672737213765808\n",
      "differential_evolution step 65: f(x)= 10.672737213765808\n",
      "differential_evolution step 66: f(x)= 10.672737213765808\n",
      "differential_evolution step 67: f(x)= 10.672737213765808\n",
      "differential_evolution step 68: f(x)= 10.672737213765808\n",
      "differential_evolution step 69: f(x)= 10.672737213765808\n",
      "differential_evolution step 70: f(x)= 10.672737213765808\n",
      "differential_evolution step 71: f(x)= 10.672737213765808\n",
      "differential_evolution step 72: f(x)= 10.672737213765808\n",
      "differential_evolution step 73: f(x)= 10.672737213765808\n",
      "differential_evolution step 74: f(x)= 10.672737213765808\n"
     ]
    }
   ],
   "source": [
    "from scipy.optimize import differential_evolution\n",
    "\n",
    "HCWat, HCWvt, HCWav = crossmodal(1.3, 2, 1.3, 2, 1.3, 2)\n",
    "\n",
    "\n",
    "def sczmodelrun(theta):\n",
    "    SCZLt, SCZLa, SCZLv = Lw(\n",
    "        theta[0], 0.05, 1, 4, theta[0], 0.05, 20, 80, theta[0], 0.05, 2, 8\n",
    "    )\n",
    "    HCWt, HCWa, HCWv, SCZBt, SCZBa, SCZBv = FwFb(\n",
    "        6.5,\n",
    "        6.5,\n",
    "        6.5,\n",
    "        theta[1],\n",
    "        theta[1],\n",
    "        theta[1],\n",
    "        1.185e01,\n",
    "        7.769e02,\n",
    "        3.881e01,\n",
    "        9.517e-01,\n",
    "    )\n",
    "    _, _, _, _, SCZrt = experiment(\n",
    "        ts,\n",
    "        simtime,\n",
    "        mydistances,\n",
    "        5,\n",
    "        SCZLt,\n",
    "        SCZLa,\n",
    "        SCZLv,\n",
    "        HCWt,\n",
    "        HCWa,\n",
    "        HCWv,\n",
    "        SCZBt,\n",
    "        SCZBa,\n",
    "        SCZBv,\n",
    "        HCWat,\n",
    "        HCWvt,\n",
    "        HCWav,\n",
    "        theta[2],\n",
    "        0,\n",
    "    )\n",
    "\n",
    "    xf = SCZrt\n",
    "    yf = SCZ_RTs\n",
    "\n",
    "    m = (xf.size * np.sum(xf * yf) - np.sum(xf) * np.sum(yf)) / (\n",
    "        xf.size * np.sum(xf * xf) - np.sum(xf) ** 2\n",
    "    )\n",
    "    bias = (np.sum(yf) - m * np.sum(xf)) / xf.size\n",
    "\n",
    "    if bias < 0:\n",
    "        bias = 0\n",
    "    if m < 0:\n",
    "        m = 0\n",
    "\n",
    "    cost = np.sum(np.square(np.divide(yf - (m * xf + bias), yf)))\n",
    "\n",
    "    return cost * 100000\n",
    "\n",
    "\n",
    "bounds = [(0, 9), (4.5, 6.55), (0, 6.5)]\n",
    "sczres = differential_evolution(\n",
    "    sczmodelrun, bounds, disp=True, workers=-1, updating=\"deferred\", polish=False\n",
    ")"
   ]
  },
  {
   "cell_type": "code",
   "execution_count": 4,
   "metadata": {},
   "outputs": [
    {
     "name": "stdout",
     "output_type": "stream",
     "text": [
      "             message: Optimization terminated successfully.\n",
      "             success: True\n",
      "                 fun: 10.672737213765808\n",
      "                   x: [ 8.546e+00  5.852e+00  5.934e-02]\n",
      "                 nit: 74\n",
      "                nfev: 3375\n",
      "          population: [[ 8.546e+00  5.852e+00  5.934e-02]\n",
      "                       [ 8.517e+00  5.908e+00  1.192e-01]\n",
      "                       ...\n",
      "                       [ 8.535e+00  5.880e+00  3.770e-02]\n",
      "                       [ 8.514e+00  5.919e+00  6.269e-02]]\n",
      " population_energies: [ 1.067e+01  1.067e+01 ...  1.067e+01  1.067e+01]\n"
     ]
    }
   ],
   "source": [
    "print(sczres)"
   ]
  },
  {
   "cell_type": "code",
   "execution_count": 5,
   "metadata": {},
   "outputs": [
    {
     "name": "stderr",
     "output_type": "stream",
     "text": [
      "/tmp/ipykernel_24293/1941110757.py:43: RuntimeWarning: overflow encountered in exp\n",
      "  psim = (fmin_m + fmax_m * np.exp((qm - qc_m) * r_m)) / (\n",
      "/tmp/ipykernel_24293/1941110757.py:44: RuntimeWarning: overflow encountered in exp\n",
      "  1 + np.exp((qm - qc_m) * r_m)\n",
      "/tmp/ipykernel_24293/1941110757.py:43: RuntimeWarning: invalid value encountered in scalar divide\n",
      "  psim = (fmin_m + fmax_m * np.exp((qm - qc_m) * r_m)) / (\n"
     ]
    }
   ],
   "source": [
    "## Fitted model\n",
    "\n",
    "Lex, B0, Pr = 8.546e00, 5.852e00, 5.934e-02\n",
    "SCZLt, SCZLa, SCZLv = Lw(Lex, 0.05, 1, 4, Lex, 0.05, 20, 80, Lex, 0.05, 2, 8)\n",
    "HCWat, HCWvt, HCWav = crossmodal(1.3, 2, 1.3, 2, 1.3, 2)\n",
    "HCWt, HCWa, HCWv, SCZBt, SCZBa, SCZBv = FwFb(\n",
    "    6.5, 6.5, 6.5, B0, B0, B0, 1.185e01, 7.769e02, 3.881e01, 9.517e-01\n",
    ")\n",
    "_, _, _, _, SCZ_Model_RTs = experiment(\n",
    "    ts,\n",
    "    simtime,\n",
    "    mydistances,\n",
    "    5,\n",
    "    SCZLt,\n",
    "    SCZLa,\n",
    "    SCZLv,\n",
    "    HCWt,\n",
    "    HCWa,\n",
    "    HCWv,\n",
    "    SCZBt,\n",
    "    SCZBa,\n",
    "    SCZBv,\n",
    "    HCWat,\n",
    "    HCWvt,\n",
    "    HCWav,\n",
    "    Pr,\n",
    "    0,\n",
    ")"
   ]
  },
  {
   "cell_type": "code",
   "execution_count": 6,
   "metadata": {},
   "outputs": [
    {
     "name": "stdout",
     "output_type": "stream",
     "text": [
      "5.149427662193006 176.12548639198414\n"
     ]
    },
    {
     "data": {
      "image/png": "[encoded data removed]",
      "text/plain": [
       "<Figure size 640x480 with 1 Axes>"
      ]
     },
     "metadata": {},
     "output_type": "display_data"
    }
   ],
   "source": [
    "xf = SCZ_Model_RTs\n",
    "yf = SCZ_RTs\n",
    "m = (xf.size * np.sum(xf * yf) - np.sum(xf) * np.sum(yf)) / (\n",
    "    xf.size * np.sum(xf * xf) - np.sum(xf) ** 2\n",
    ")\n",
    "bias = (np.sum(yf) - m * np.sum(xf)) / xf.size\n",
    "\n",
    "ymin, ymax = np.min(m * xf + bias), np.max(m * xf + bias)\n",
    "dc, h = fitting(mydistances, m * xf + bias)\n",
    "mydistances_exp = np.linspace(mydistances[0], mydistances[-1], 30)\n",
    "yf_exp = RTsig(mydistances_exp, dc, h)\n",
    "\n",
    "plt.figure(1)\n",
    "plt.plot(\n",
    "    mydistances_exp, yf_exp, label=\"SCZ Lex + $B_{0}$ + FW Prunning Model\", color=\"r\"\n",
    ")\n",
    "plt.scatter(mydistances, yf, label=\"SCZ Data\", color=\"r\")\n",
    "plt.legend()\n",
    "print(m, bias)"
   ]
  },
  {
   "cell_type": "code",
   "execution_count": 7,
   "metadata": {},
   "outputs": [
    {
     "name": "stdout",
     "output_type": "stream",
     "text": [
      "1.0039773643450958\n"
     ]
    }
   ],
   "source": [
    "from sklearn import metrics\n",
    "\n",
    "print(metrics.root_mean_squared_error(yf, m * xf + bias))"
   ]
  },
  {
   "cell_type": "code",
   "execution_count": 8,
   "metadata": {},
   "outputs": [
    {
     "name": "stdout",
     "output_type": "stream",
     "text": [
      "1.2296161279749007\n"
     ]
    }
   ],
   "source": [
    "def adjrmse(model, data, k):\n",
    "    sse = np.sum(np.square(data - model))\n",
    "    n = len(model)\n",
    "    return np.sqrt(sse / (n - k))\n",
    "\n",
    "\n",
    "scz_error = adjrmse(m * xf + bias, yf, 5)\n",
    "print(scz_error)"
   ]
  }
 ],
 "metadata": {
  "kernelspec": {
   "display_name": "pps",
   "language": "python",
   "name": "python3"
  },
  "language_info": {
   "codemirror_mode": {
    "name": "ipython",
    "version": 3
   },
   "file_extension": ".py",
   "mimetype": "text/x-python",
   "name": "python",
   "nbconvert_exporter": "python",
   "pygments_lexer": "ipython3",
   "version": "3.11.6"
  }
 },
 "nbformat": 4,
 "nbformat_minor": 2
}
