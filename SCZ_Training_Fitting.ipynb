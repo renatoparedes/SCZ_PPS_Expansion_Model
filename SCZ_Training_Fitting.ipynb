{
 "cells": [
  {
   "cell_type": "code",
   "execution_count": 8,
   "metadata": {},
   "outputs": [
    {
     "name": "stderr",
     "output_type": "stream",
     "text": [
      "/home/renato/.virtualenvs/pps/lib/python3.11/site-packages/nbformat/__init__.py:93: MissingIDFieldWarning: Code cell is missing an id field, this will become a hard error in future nbformat versions. You may want to use `normalize()` on your notebooks before validations (available since nbformat 5.1.4). Previous versions of nbformat are fixing this issue transparently, and will stop doing so in the future.\n",
      "  validate(nb)\n"
     ]
    }
   ],
   "source": [
    "%run ./Vlad_Dissertation.ipynb"
   ]
  },
  {
   "cell_type": "code",
   "execution_count": 18,
   "metadata": {},
   "outputs": [
    {
     "data": {
      "text/plain": [
       "<matplotlib.legend.Legend at 0x7ffb9d6b24d0>"
      ]
     },
     "execution_count": 18,
     "metadata": {},
     "output_type": "execute_result"
    },
    {
     "data": {
      "image/png": "[encoded data removed]",
      "text/plain": [
       "<Figure size 640x480 with 1 Axes>"
      ]
     },
     "metadata": {},
     "output_type": "display_data"
    }
   ],
   "source": [
    "# Distance points in cm (network coordinates)\n",
    "s_distances = np.asarray([2700, 2200, 1500, 800, 300]) / 1000\n",
    "ts = np.linspace(s_distances[0], s_distances[-1], 15)\n",
    "v = 30  # cm/s\n",
    "a_distances = 100 - ts * v  # distance points in cm (network coordinates)\n",
    "\n",
    "ts = 0.4\n",
    "simtime = 200\n",
    "\n",
    "##Pre-Training\n",
    "###SCZ\n",
    "ymin = 366\n",
    "ymax = 403\n",
    "scz_cp = 100 - 1.666 * 30\n",
    "scz_slope = 1 / 0.075\n",
    "\n",
    "SCZ_RTs = RTsig(a_distances, scz_cp, scz_slope)\n",
    "\n",
    "##Post-Training\n",
    "###SCZ\n",
    "ymin = 385\n",
    "ymax = 426\n",
    "scz_cp_post = 100 - 1.361 * v\n",
    "scz_slope_post = 1 / 0.061  # negative\n",
    "\n",
    "SCZ_RTs_post = RTsig(a_distances, scz_cp_post, scz_slope_post)\n",
    "\n",
    "plt.scatter(a_distances, SCZ_RTs, label=\"Pre-Training SCZ Data\")\n",
    "plt.scatter(a_distances, SCZ_RTs_post, label=\"Post-Training SCZ Data\")\n",
    "plt.legend()"
   ]
  },
  {
   "cell_type": "code",
   "execution_count": 19,
   "metadata": {},
   "outputs": [
    {
     "name": "stdout",
     "output_type": "stream",
     "text": [
      "differential_evolution step 1: f(x)= 140.60145023692684\n",
      "differential_evolution step 2: f(x)= 119.94810650673503\n",
      "differential_evolution step 3: f(x)= 95.84639444229502\n",
      "differential_evolution step 4: f(x)= 95.84639444229502\n",
      "differential_evolution step 5: f(x)= 59.312408941220355\n",
      "differential_evolution step 6: f(x)= 24.138507892451393\n",
      "differential_evolution step 7: f(x)= 20.805937364855303\n",
      "differential_evolution step 8: f(x)= 14.40671729199359\n",
      "differential_evolution step 9: f(x)= 14.40671729199359\n",
      "differential_evolution step 10: f(x)= 14.40671729199359\n",
      "differential_evolution step 11: f(x)= 14.40671729199359\n",
      "differential_evolution step 12: f(x)= 14.40671729199359\n",
      "differential_evolution step 13: f(x)= 13.67986711355039\n",
      "differential_evolution step 14: f(x)= 13.67986711355039\n",
      "differential_evolution step 15: f(x)= 13.67986711355039\n",
      "differential_evolution step 16: f(x)= 13.67986711355039\n",
      "differential_evolution step 17: f(x)= 13.67986711355039\n",
      "differential_evolution step 18: f(x)= 13.67986711355039\n",
      "differential_evolution step 19: f(x)= 13.67986711355039\n"
     ]
    }
   ],
   "source": [
    "from scipy.optimize import differential_evolution\n",
    "\n",
    "Lex, Pr = 1.963e00, 1.044e-01\n",
    "\n",
    "SCZLt, SCZLa, SCZLv = Lw(Lex, 0.05, 1, 4, Lex, 0.05, 20, 80, Lex, 0.05, 2, 8)\n",
    "HCWat, HCWvt, HCWav = crossmodal(0.05, 2, 0.05, 2, 0.05, 2)\n",
    "HCWt, HCWa, HCWv, HCBt, HCBa, HCBv = FwFb(\n",
    "    6.5, 6.5, 6.5, 6.55, 6.55, 6.55, 1.083e01, 5.076e02, 3.226e01, 9.968e-01\n",
    ")\n",
    "\n",
    "k_a = 5e-05\n",
    "k_v = 5e-05\n",
    "stim_counts = 10\n",
    "\n",
    "sigav_x, locav_x = 5.394e00, 3.271e01\n",
    "\n",
    "\n",
    "def train_sczmodel(theta):\n",
    "    rho_0 = theta[0]\n",
    "\n",
    "    SCZWa_tr, SCZWv_tr, _, _, _, _ = FWTraining(\n",
    "        stim_counts,\n",
    "        simtime,\n",
    "        ts,\n",
    "        SCZLt,\n",
    "        SCZLa,\n",
    "        SCZLv,\n",
    "        HCWt,\n",
    "        HCWa,\n",
    "        HCWv,\n",
    "        HCBt,\n",
    "        HCBa,\n",
    "        HCBv,\n",
    "        HCWat,\n",
    "        HCWvt,\n",
    "        HCWav,\n",
    "        Pr,\n",
    "        rho_0,\n",
    "        6.5,\n",
    "        6.5,\n",
    "        k_a,\n",
    "        k_v,\n",
    "        0.05,\n",
    "        sigav_x,\n",
    "        locav_x,\n",
    "    )\n",
    "\n",
    "    _, _, _, _, SCZrtpost = experiment(\n",
    "        ts,\n",
    "        simtime,\n",
    "        a_distances,\n",
    "        5,\n",
    "        SCZLt,\n",
    "        SCZLa,\n",
    "        SCZLv,\n",
    "        HCWt,\n",
    "        SCZWa_tr[:, :, -1, -1],\n",
    "        SCZWv_tr[:, :, -1, -1],\n",
    "        HCBt,\n",
    "        HCBa,\n",
    "        HCBv,\n",
    "        HCWat,\n",
    "        HCWvt,\n",
    "        HCWav,\n",
    "        0,\n",
    "        0,\n",
    "    )\n",
    "\n",
    "    xf = SCZrtpost\n",
    "    yf = SCZ_RTs_post\n",
    "\n",
    "    m = (xf.size * np.sum(xf * yf) - np.sum(xf) * np.sum(yf)) / (\n",
    "        xf.size * np.sum(xf * xf) - np.sum(xf) ** 2\n",
    "    )\n",
    "    bias = (np.sum(yf) - m * np.sum(xf)) / xf.size\n",
    "\n",
    "    if bias < 0:\n",
    "        bias = 0\n",
    "    if m < 0:\n",
    "        m = 0\n",
    "\n",
    "    cost = np.sum(np.square(np.divide(yf - (m * xf + bias), yf)))\n",
    "\n",
    "    return cost * 100000\n",
    "\n",
    "\n",
    "bounds = [(0, 0.1)]\n",
    "train_sczmodel_res = differential_evolution(\n",
    "    train_sczmodel, bounds, disp=True, workers=-1, updating=\"deferred\", polish=False\n",
    ")"
   ]
  },
  {
   "cell_type": "code",
   "execution_count": 21,
   "metadata": {},
   "outputs": [
    {
     "name": "stdout",
     "output_type": "stream",
     "text": [
      "             message: Optimization terminated successfully.\n",
      "             success: True\n",
      "                 fun: 13.67986711355039\n",
      "                   x: [ 6.159e-05]\n",
      "                 nit: 19\n",
      "                nfev: 300\n",
      "          population: [[ 6.159e-05]\n",
      "                       [ 6.166e-05]\n",
      "                       ...\n",
      "                       [ 6.427e-05]\n",
      "                       [ 6.171e-05]]\n",
      " population_energies: [ 1.368e+01  1.368e+01 ...  1.400e+01  1.368e+01]\n"
     ]
    }
   ],
   "source": [
    "print(train_sczmodel_res)"
   ]
  },
  {
   "cell_type": "code",
   "execution_count": 22,
   "metadata": {},
   "outputs": [],
   "source": [
    "## Fitted model\n",
    "\n",
    "Lex, Pr = 1.963e00, 1.044e-01\n",
    "rho_0 = 6.159e-05\n",
    "sigav_x, locav_x = 5.394e00, 3.271e01\n",
    "\n",
    "SCZLt, SCZLa, SCZLv = Lw(Lex, 0.05, 1, 4, Lex, 0.05, 20, 80, Lex, 0.05, 2, 8)\n",
    "HCWat, HCWvt, HCWav = crossmodal(0.05, 2, 0.05, 2, 0.05, 2)\n",
    "HCWt, HCWa, HCWv, HCBt, HCBa, HCBv = FwFb(\n",
    "    6.5, 6.5, 6.5, 6.55, 6.55, 6.55, 1.083e01, 5.076e02, 3.226e01, 9.968e-01\n",
    ")\n",
    "\n",
    "SCZWa_tr, SCZWv_tr, _, _, _, _ = FWTraining(\n",
    "    stim_counts,\n",
    "    simtime,\n",
    "    ts,\n",
    "    SCZLt,\n",
    "    SCZLa,\n",
    "    SCZLv,\n",
    "    HCWt,\n",
    "    HCWa,\n",
    "    HCWv,\n",
    "    HCBt,\n",
    "    HCBa,\n",
    "    HCBv,\n",
    "    HCWat,\n",
    "    HCWvt,\n",
    "    HCWav,\n",
    "    Pr,\n",
    "    rho_0,\n",
    "    6.5,\n",
    "    6.5,\n",
    "    k_a,\n",
    "    k_v,\n",
    "    0.05,\n",
    "    sigav_x,\n",
    "    locav_x,\n",
    ")\n",
    "\n",
    "\n",
    "_, _, _, _, SCZ_Model_RTs_post = experiment(\n",
    "    ts,\n",
    "    simtime,\n",
    "    a_distances,\n",
    "    5,\n",
    "    SCZLt,\n",
    "    SCZLa,\n",
    "    SCZLv,\n",
    "    HCWt,\n",
    "    SCZWa_tr[:, :, -1, -1],\n",
    "    SCZWv_tr[:, :, -1, -1],\n",
    "    HCBt,\n",
    "    HCBa,\n",
    "    HCBv,\n",
    "    HCWat,\n",
    "    HCWvt,\n",
    "    HCWav,\n",
    "    0,\n",
    "    0,\n",
    ")\n",
    "\n",
    "SCZ_Model_RTs_post = fit_RT(SCZ_Model_RTs_post, SCZ_RTs_post)"
   ]
  },
  {
   "cell_type": "code",
   "execution_count": 23,
   "metadata": {},
   "outputs": [],
   "source": [
    "_, _, _, _, SCZ_Model_RTs_pre = experiment(\n",
    "    ts,\n",
    "    simtime,\n",
    "    a_distances,\n",
    "    5,\n",
    "    SCZLt,\n",
    "    SCZLa,\n",
    "    SCZLv,\n",
    "    HCWt,\n",
    "    HCWa,\n",
    "    HCWv,\n",
    "    HCBt,\n",
    "    HCBa,\n",
    "    HCBv,\n",
    "    HCWat,\n",
    "    HCWvt,\n",
    "    HCWav,\n",
    "    Pr,\n",
    "    0,\n",
    ")\n",
    "\n",
    "SCZ_RTs_model_pre = fit_RT(SCZ_Model_RTs_pre, SCZ_RTs_post)"
   ]
  },
  {
   "cell_type": "code",
   "execution_count": 26,
   "metadata": {},
   "outputs": [
    {
     "data": {
      "text/plain": [
       "<matplotlib.legend.Legend at 0x7ffad9a82690>"
      ]
     },
     "execution_count": 26,
     "metadata": {},
     "output_type": "execute_result"
    },
    {
     "data": {
      "image/png": "[encoded data removed]",
      "text/plain": [
       "<Figure size 640x480 with 1 Axes>"
      ]
     },
     "metadata": {},
     "output_type": "display_data"
    }
   ],
   "source": [
    "plt.scatter(a_distances, SCZ_RTs_model_pre, label=\"Pre-Training SCZ Model\")\n",
    "plt.scatter(a_distances, SCZ_RTs_post, label=\"Post-Training SCZ Data\")\n",
    "plt.scatter(a_distances, SCZ_Model_RTs_post, label=\"Post-Training SCZ Model\")\n",
    "plt.ylabel(\"RT (ms)\", size=14)\n",
    "plt.xlabel(\"Distance (cm)\", size=14)\n",
    "plt.legend(prop={\"size\": 12})\n",
    "plt.legend()"
   ]
  }
 ],
 "metadata": {
  "kernelspec": {
   "display_name": "vlad",
   "language": "python",
   "name": "python3"
  },
  "language_info": {
   "codemirror_mode": {
    "name": "ipython",
    "version": 3
   },
   "file_extension": ".py",
   "mimetype": "text/x-python",
   "name": "python",
   "nbconvert_exporter": "python",
   "pygments_lexer": "ipython3",
   "version": "3.11.6"
  }
 },
 "nbformat": 4,
 "nbformat_minor": 2
}
