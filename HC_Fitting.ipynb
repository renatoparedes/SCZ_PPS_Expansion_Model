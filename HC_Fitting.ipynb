{
 "cells": [
  {
   "cell_type": "code",
   "execution_count": 1,
   "metadata": {},
   "outputs": [
    {
     "name": "stderr",
     "output_type": "stream",
     "text": [
      "/home/renato/.virtualenvs/PPS/lib/python3.10/site-packages/nbformat/__init__.py:93: MissingIDFieldWarning: Code cell is missing an id field, this will become a hard error in future nbformat versions. You may want to use `normalize()` on your notebooks before validations (available since nbformat 5.1.4). Previous versions of nbformat are fixing this issue transparently, and will stop doing so in the future.\n",
      "  validate(nb)\n",
      "/tmp/ipykernel_308/1247435164.py:5: DeprecationWarning: \n",
      "Pyarrow will become a required dependency of pandas in the next major release of pandas (pandas 3.0),\n",
      "(to allow more performant data types, such as the Arrow string type, and better interoperability with other libraries)\n",
      "but was not found to be installed on your system.\n",
      "If this would cause problems for you,\n",
      "please provide us feedback at https://github.com/pandas-dev/pandas/issues/54466\n",
      "        \n",
      "  import pandas as pd\n"
     ]
    }
   ],
   "source": [
    "%run ./Vlad_Dissertation.ipynb"
   ]
  },
  {
   "cell_type": "code",
   "execution_count": 4,
   "metadata": {},
   "outputs": [
    {
     "data": {
      "text/plain": [
       "<matplotlib.collections.PathCollection at 0x7f672b5173d0>"
      ]
     },
     "execution_count": 4,
     "metadata": {},
     "output_type": "execute_result"
    },
    {
     "data": {
      "image/png": "[encoded data removed]",
      "text/plain": [
       "<Figure size 640x480 with 1 Axes>"
      ]
     },
     "metadata": {},
     "output_type": "display_data"
    }
   ],
   "source": [
    "# Distance points in cm (network coordinates)\n",
    "s_distances = np.asarray([2700, 2200, 1500, 800, 300]) / 1000\n",
    "ts = np.linspace(s_distances[0], s_distances[-1], 15)\n",
    "v = 30  # cm/s\n",
    "mydistances = 100 - ts * v  # distance points in cm (network coordinates)\n",
    "\n",
    "##Pre-Training\n",
    "###Healthy Controls\n",
    "ymin = 280\n",
    "ymax = 331\n",
    "fprHCCP = 100 - 1.377 * v\n",
    "fprHCS = 1 / 0.11  # negative\n",
    "\n",
    "HC_RTs = RTsig(mydistances, fprHCCP, fprHCS)\n",
    "plt.scatter(mydistances, HC_RTs)"
   ]
  },
  {
   "cell_type": "code",
   "execution_count": 3,
   "metadata": {},
   "outputs": [
    {
     "name": "stdout",
     "output_type": "stream",
     "text": [
      "differential_evolution step 1: f(x)= 4.820658815273768\n",
      "differential_evolution step 2: f(x)= 4.820658815273768\n",
      "differential_evolution step 3: f(x)= 4.820658815273768\n",
      "differential_evolution step 4: f(x)= 2.6825347948087446\n",
      "differential_evolution step 5: f(x)= 2.6825347948087446\n",
      "differential_evolution step 6: f(x)= 1.932568071616434\n",
      "differential_evolution step 7: f(x)= 1.932568071616434\n",
      "differential_evolution step 8: f(x)= 1.932568071616434\n",
      "differential_evolution step 9: f(x)= 1.932568071616434\n",
      "differential_evolution step 10: f(x)= 1.3882334871110478\n",
      "differential_evolution step 11: f(x)= 1.3882334871110478\n",
      "differential_evolution step 12: f(x)= 1.0206462365534927\n",
      "differential_evolution step 13: f(x)= 1.0206462365534927\n",
      "differential_evolution step 14: f(x)= 0.9947595981799117\n",
      "differential_evolution step 15: f(x)= 0.9947595981799117\n",
      "differential_evolution step 16: f(x)= 0.9947595981799117\n",
      "differential_evolution step 17: f(x)= 0.9947595981799117\n",
      "differential_evolution step 18: f(x)= 0.9947595981799117\n",
      "differential_evolution step 19: f(x)= 0.9947595981799117\n",
      "differential_evolution step 20: f(x)= 0.9947595981799117\n",
      "differential_evolution step 21: f(x)= 0.9947595981799117\n",
      "differential_evolution step 22: f(x)= 0.9947595981799117\n",
      "differential_evolution step 23: f(x)= 0.9947595981799117\n",
      "differential_evolution step 24: f(x)= 0.9947595981799117\n",
      "differential_evolution step 25: f(x)= 0.9947595981799117\n",
      "differential_evolution step 26: f(x)= 0.9947595981799117\n",
      "differential_evolution step 27: f(x)= 0.9947595981799117\n",
      "differential_evolution step 28: f(x)= 0.9947595981799117\n",
      "differential_evolution step 29: f(x)= 0.9947595981799117\n",
      "differential_evolution step 30: f(x)= 0.9947595981799117\n",
      "differential_evolution step 31: f(x)= 0.9947595981799117\n",
      "differential_evolution step 32: f(x)= 0.9947595981799117\n",
      "differential_evolution step 33: f(x)= 0.9947595981799117\n",
      "differential_evolution step 34: f(x)= 0.9947595981799117\n",
      "differential_evolution step 35: f(x)= 0.9947595981799117\n",
      "differential_evolution step 36: f(x)= 0.9947595981799117\n",
      "differential_evolution step 37: f(x)= 0.9947595981799117\n",
      "differential_evolution step 38: f(x)= 0.9947595981799117\n",
      "differential_evolution step 39: f(x)= 0.9947595981799117\n",
      "differential_evolution step 40: f(x)= 0.9947595981799117\n",
      "differential_evolution step 41: f(x)= 0.9947595981799117\n",
      "differential_evolution step 42: f(x)= 0.9947595981799117\n",
      "Polishing solution with 'L-BFGS-B'\n"
     ]
    }
   ],
   "source": [
    "from scipy.optimize import differential_evolution\n",
    "\n",
    "HCLt, HCLa, HCLv = Lw(0.15, 0.05, 1, 4, 0.15, 0.05, 20, 80, 0.15, 0.05, 2, 8)\n",
    "HCWat, HCWvt, HCWav = crossmodal(1.275, 2, 1.275, 2, 1.275, 2)\n",
    "\n",
    "\n",
    "def boundaryhcmodelrun(theta):\n",
    "    HCWt, HCWa, HCWv, HCBt, HCBa, HCBv = FwFb(\n",
    "        6.5, 6.5, 6.5, 6.55, 6.55, 6.55, theta[0], theta[1], theta[2], theta[3]\n",
    "    )  # feedforward and feedback\n",
    "    _, _, _, _, HCrt = experiment(\n",
    "        0.4,\n",
    "        200,\n",
    "        mydistances,\n",
    "        5,\n",
    "        HCLt,\n",
    "        HCLa,\n",
    "        HCLv,\n",
    "        HCWt,\n",
    "        HCWa,\n",
    "        HCWv,\n",
    "        HCBt,\n",
    "        HCBa,\n",
    "        HCBv,\n",
    "        HCWat,\n",
    "        HCWvt,\n",
    "        HCWav,\n",
    "        0,\n",
    "        0,\n",
    "    )\n",
    "\n",
    "    xf = HCrt\n",
    "    yf = HC_RTs\n",
    "\n",
    "    m = (xf.size * np.sum(xf * yf) - np.sum(xf) * np.sum(yf)) / (\n",
    "        xf.size * np.sum(xf * xf) - np.sum(xf) ** 2\n",
    "    )\n",
    "    bias = (np.sum(yf) - m * np.sum(xf)) / xf.size\n",
    "\n",
    "    if bias < 0:\n",
    "        bias = 0\n",
    "    if m < 0:\n",
    "        m = 0\n",
    "\n",
    "    cost = np.sum(np.square(np.divide(yf - (m * xf + bias), yf)))\n",
    "\n",
    "    return cost * 100000\n",
    "\n",
    "\n",
    "bounds = [(1, 50), (500, 1000), (20, 80), (0.25, 1)]  # k1, k2, lim, alpha\n",
    "boundaryhcres = differential_evolution(\n",
    "    boundaryhcmodelrun, bounds, disp=True, workers=-1, updating=\"deferred\", polish=False\n",
    ")"
   ]
  },
  {
   "cell_type": "code",
   "execution_count": 5,
   "metadata": {},
   "outputs": [
    {
     "name": "stdout",
     "output_type": "stream",
     "text": [
      "             message: Optimization terminated successfully.\n",
      "             success: True\n",
      "                 fun: 0.9947595981799117\n",
      "                   x: [ 1.035e+01  6.045e+02  6.337e+01  7.194e-01]\n",
      "                 nit: 42\n",
      "                nfev: 2585\n",
      "          population: [[ 1.035e+01  6.045e+02  6.337e+01  7.194e-01]\n",
      "                       [ 8.818e+00  5.879e+02  6.452e+01  7.104e-01]\n",
      "                       ...\n",
      "                       [ 9.730e+00  5.452e+02  6.347e+01  7.125e-01]\n",
      "                       [ 9.867e+00  6.232e+02  6.385e+01  7.173e-01]]\n",
      " population_energies: [ 9.948e-01  9.948e-01 ...  9.948e-01  9.948e-01]\n"
     ]
    }
   ],
   "source": [
    "print(boundaryhcres)"
   ]
  },
  {
   "cell_type": "code",
   "execution_count": 6,
   "metadata": {},
   "outputs": [],
   "source": [
    "## Fitted model\n",
    "\n",
    "HCLt, HCLa, HCLv = Lw(0.15, 0.05, 1, 4, 0.15, 0.05, 20, 80, 0.15, 0.05, 2, 8)\n",
    "HCWat, HCWvt, HCWav = crossmodal(1.275, 2, 1.275, 2, 1.275, 2)\n",
    "HCWt, HCWa, HCWv, HCBt, HCBa, HCBv = FwFb(\n",
    "    6.5, 6.5, 6.5, 6.55, 6.55, 6.55, 1.035e01, 6.045e02, 6.337e01, 7.194e-01\n",
    ")\n",
    "_, _, _, _, HC_Model_RTs = experiment(\n",
    "    0.4,\n",
    "    200,\n",
    "    mydistances,\n",
    "    5,\n",
    "    HCLt,\n",
    "    HCLa,\n",
    "    HCLv,\n",
    "    HCWt,\n",
    "    HCWa,\n",
    "    HCWv,\n",
    "    HCBt,\n",
    "    HCBa,\n",
    "    HCBv,\n",
    "    HCWat,\n",
    "    HCWvt,\n",
    "    HCWav,\n",
    "    0,\n",
    "    0,\n",
    ")\n",
    "\n",
    "HC_Model_RTs = fit_RT(HC_Model_RTs, HC_RTs)"
   ]
  },
  {
   "cell_type": "code",
   "execution_count": 20,
   "metadata": {},
   "outputs": [
    {
     "data": {
      "text/plain": [
       "<matplotlib.legend.Legend at 0x7f5fb5477990>"
      ]
     },
     "execution_count": 20,
     "metadata": {},
     "output_type": "execute_result"
    },
    {
     "data": {
      "image/png": "[encoded data removed]",
      "text/plain": [
       "<Figure size 640x480 with 1 Axes>"
      ]
     },
     "metadata": {},
     "output_type": "display_data"
    }
   ],
   "source": [
    "plt.scatter(mydistances, HC_Model_RTs, label=\"Model\")\n",
    "plt.scatter(mydistances, HC_RTs, label=\"HC data\")\n",
    "plt.ylabel(\"RT (ms)\", size=14)\n",
    "plt.xlabel(\"Distance (cm)\", size=14)\n",
    "plt.legend(prop={\"size\": 12})\n",
    "plt.legend()"
   ]
  }
 ],
 "metadata": {
  "kernelspec": {
   "display_name": "vlad",
   "language": "python",
   "name": "python3"
  },
  "language_info": {
   "codemirror_mode": {
    "name": "ipython",
    "version": 3
   },
   "file_extension": ".py",
   "mimetype": "text/x-python",
   "name": "python",
   "nbconvert_exporter": "python",
   "pygments_lexer": "ipython3",
   "version": "3.10.12"
  }
 },
 "nbformat": 4,
 "nbformat_minor": 2
}
