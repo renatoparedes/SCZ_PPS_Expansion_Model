{
 "cells": [
  {
   "cell_type": "code",
   "execution_count": 1,
   "metadata": {},
   "outputs": [
    {
     "name": "stderr",
     "output_type": "stream",
     "text": [
      "/home/renato/.virtualenvs/pps/lib/python3.11/site-packages/nbformat/__init__.py:93: MissingIDFieldWarning: Code cell is missing an id field, this will become a hard error in future nbformat versions. You may want to use `normalize()` on your notebooks before validations (available since nbformat 5.1.4). Previous versions of nbformat are fixing this issue transparently, and will stop doing so in the future.\n",
      "  validate(nb)\n",
      "/tmp/ipykernel_3415/1247435164.py:5: DeprecationWarning: \n",
      "Pyarrow will become a required dependency of pandas in the next major release of pandas (pandas 3.0),\n",
      "(to allow more performant data types, such as the Arrow string type, and better interoperability with other libraries)\n",
      "but was not found to be installed on your system.\n",
      "If this would cause problems for you,\n",
      "please provide us feedback at https://github.com/pandas-dev/pandas/issues/54466\n",
      "        \n",
      "  import pandas as pd\n"
     ]
    }
   ],
   "source": [
    "%run ./Vlad_Dissertation.ipynb"
   ]
  },
  {
   "cell_type": "code",
   "execution_count": 2,
   "metadata": {},
   "outputs": [
    {
     "data": {
      "text/plain": [
       "<matplotlib.legend.Legend at 0x7fe00b1f78d0>"
      ]
     },
     "execution_count": 2,
     "metadata": {},
     "output_type": "execute_result"
    },
    {
     "data": {
      "image/png": "[encoded data removed]",
      "text/plain": [
       "<Figure size 640x480 with 1 Axes>"
      ]
     },
     "metadata": {},
     "output_type": "display_data"
    }
   ],
   "source": [
    "# Distance points in cm (network coordinates)\n",
    "s_distances = np.asarray([2700, 2200, 1500, 800, 300]) / 1000\n",
    "ts = np.linspace(s_distances[0], s_distances[-1], 15)\n",
    "v = 30  # cm/s\n",
    "mydistances = 100 - ts * v  # distance points in cm (network coordinates)\n",
    "\n",
    "ts = 0.4\n",
    "simtime = 200\n",
    "\n",
    "##Pre-Training\n",
    "###Healthy Controls\n",
    "ymin = 280\n",
    "ymax = 331\n",
    "fprHCCP = 100 - 1.377 * v\n",
    "fprHCS = 1 / 0.11  # negative\n",
    "\n",
    "HC_RTs = RTsig(mydistances, fprHCCP, fprHCS)\n",
    "plt.scatter(mydistances, HC_RTs, label=\"Pre-Training HC Data\")\n",
    "\n",
    "##Post-Training\n",
    "###Healthy Controls\n",
    "ymin = 277\n",
    "ymax = 335\n",
    "fpostHCCP = 100 - 1.028 * v\n",
    "fpostHCS = 1 / 0.18  # negative\n",
    "\n",
    "HC_RTs_post = RTsig(mydistances, fpostHCCP, fpostHCS)\n",
    "plt.scatter(mydistances, HC_RTs_post, label=\"Post-Training HC Data\")\n",
    "plt.legend()"
   ]
  },
  {
   "cell_type": "code",
   "execution_count": 3,
   "metadata": {},
   "outputs": [
    {
     "name": "stdout",
     "output_type": "stream",
     "text": [
      "differential_evolution step 1: f(x)= 76.81363051277121\n",
      "differential_evolution step 2: f(x)= 72.66466983287069\n",
      "differential_evolution step 3: f(x)= 72.66466983287069\n",
      "differential_evolution step 4: f(x)= 72.66466983287069\n",
      "differential_evolution step 5: f(x)= 72.66466983287069\n",
      "differential_evolution step 6: f(x)= 72.66466983287069\n",
      "differential_evolution step 7: f(x)= 72.20813726394672\n",
      "differential_evolution step 8: f(x)= 72.20813726394672\n",
      "differential_evolution step 9: f(x)= 72.20813726394672\n",
      "differential_evolution step 10: f(x)= 72.20813726394672\n",
      "differential_evolution step 11: f(x)= 71.71128215641997\n",
      "differential_evolution step 12: f(x)= 71.71128215641997\n",
      "differential_evolution step 13: f(x)= 71.71128215641997\n",
      "differential_evolution step 14: f(x)= 71.71128215641997\n",
      "differential_evolution step 15: f(x)= 71.71128215641997\n",
      "differential_evolution step 16: f(x)= 71.5944839153415\n",
      "differential_evolution step 17: f(x)= 71.5944839153415\n",
      "differential_evolution step 18: f(x)= 71.5944839153415\n",
      "differential_evolution step 19: f(x)= 71.5944839153415\n",
      "differential_evolution step 20: f(x)= 71.5944839153415\n",
      "differential_evolution step 21: f(x)= 71.5944839153415\n",
      "differential_evolution step 22: f(x)= 71.5944839153415\n",
      "differential_evolution step 23: f(x)= 71.5944839153415\n"
     ]
    }
   ],
   "source": [
    "from scipy.optimize import differential_evolution\n",
    "\n",
    "HCLt, HCLa, HCLv = Lw(0.15, 0.05, 1, 4, 0.15, 0.05, 20, 80, 0.15, 0.05, 2, 8)\n",
    "HCWat, HCWvt, HCWav = crossmodal(0.05, 2, 0.05, 2, 0.05, 2)\n",
    "HCWt, HCWa, HCWv, HCBt, HCBa, HCBv = FwFb(\n",
    "    6.5, 6.5, 6.5, 6.55, 6.55, 6.55, 1.083e01, 5.076e02, 3.226e01, 9.968e-01\n",
    ")\n",
    "\n",
    "k_a = 5e-05\n",
    "k_v = 5e-05\n",
    "stim_counts = 10\n",
    "\n",
    "\n",
    "def train_hcmodel(theta):\n",
    "    rho_0 = theta[0]\n",
    "    sigav_x = theta[1]\n",
    "    locav_x = theta[2]\n",
    "\n",
    "    HCWa_tr, HCWv_tr, _, _, _, _ = FWTraining(\n",
    "        stim_counts,\n",
    "        simtime,\n",
    "        ts,\n",
    "        HCLt,\n",
    "        HCLa,\n",
    "        HCLv,\n",
    "        HCWt,\n",
    "        HCWa,\n",
    "        HCWv,\n",
    "        HCBt,\n",
    "        HCBa,\n",
    "        HCBv,\n",
    "        HCWat,\n",
    "        HCWvt,\n",
    "        HCWav,\n",
    "        0,\n",
    "        rho_0,\n",
    "        6.5,\n",
    "        6.5,\n",
    "        k_a,\n",
    "        k_v,\n",
    "        0.05,\n",
    "        sigav_x,\n",
    "        locav_x,\n",
    "    )\n",
    "\n",
    "    _, _, _, _, HCrtpost = experiment(\n",
    "        ts,\n",
    "        simtime,\n",
    "        mydistances,\n",
    "        5,\n",
    "        HCLt,\n",
    "        HCLa,\n",
    "        HCLv,\n",
    "        HCWt,\n",
    "        HCWa_tr[:, :, -1, -1],\n",
    "        HCWv_tr[:, :, -1, -1],\n",
    "        HCBt,\n",
    "        HCBa,\n",
    "        HCBv,\n",
    "        HCWat,\n",
    "        HCWvt,\n",
    "        HCWav,\n",
    "        0,\n",
    "        0,\n",
    "    )\n",
    "\n",
    "    xf = HCrtpost\n",
    "    yf = HC_RTs_post\n",
    "\n",
    "    m = (xf.size * np.sum(xf * yf) - np.sum(xf) * np.sum(yf)) / (\n",
    "        xf.size * np.sum(xf * xf) - np.sum(xf) ** 2\n",
    "    )\n",
    "    bias = (np.sum(yf) - m * np.sum(xf)) / xf.size\n",
    "\n",
    "    if bias < 0:\n",
    "        bias = 0\n",
    "    if m < 0:\n",
    "        m = 0\n",
    "\n",
    "    cost = np.sum(np.square(np.divide(yf - (m * xf + bias), yf)))\n",
    "\n",
    "    return cost * 100000\n",
    "\n",
    "\n",
    "bounds = [(0, 0.1), (0.01, 9), (32, 100)]\n",
    "train_hcmodel_res = differential_evolution(\n",
    "    train_hcmodel, bounds, disp=True, workers=-1, updating=\"deferred\", polish=False\n",
    ")"
   ]
  },
  {
   "cell_type": "code",
   "execution_count": 5,
   "metadata": {},
   "outputs": [
    {
     "name": "stdout",
     "output_type": "stream",
     "text": [
      "             message: Optimization terminated successfully.\n",
      "             success: True\n",
      "                 fun: 71.5944839153415\n",
      "                   x: [ 3.399e-02  8.018e+00  3.521e+01]\n",
      "                 nit: 23\n",
      "                nfev: 1080\n",
      "          population: [[ 3.399e-02  8.018e+00  3.521e+01]\n",
      "                       [ 1.804e-02  4.667e+00  4.130e+01]\n",
      "                       ...\n",
      "                       [ 3.185e-02  7.952e+00  3.531e+01]\n",
      "                       [ 3.194e-02  7.955e+00  3.531e+01]]\n",
      " population_energies: [ 7.159e+01  7.310e+01 ...  7.223e+01  7.223e+01]\n"
     ]
    }
   ],
   "source": [
    "print(train_hcmodel_res)"
   ]
  },
  {
   "cell_type": "code",
   "execution_count": 6,
   "metadata": {},
   "outputs": [],
   "source": [
    "## Fitted model\n",
    "\n",
    "rho_0, siagav_x, locav_x = 3.399e-02, 8.018e00, 3.521e01\n",
    "\n",
    "# (2.005e-03, 5.041e00, 4.895e01)\n",
    "# 1.633e-02, 9.858e-01 #6.222e-07\n",
    "\n",
    "HCLt, HCLa, HCLv = Lw(0.15, 0.05, 1, 4, 0.15, 0.05, 20, 80, 0.15, 0.05, 2, 8)\n",
    "HCWat, HCWvt, HCWav = crossmodal(0.05, 2, 0.05, 2, 0.05, 2)\n",
    "HCWt, HCWa, HCWv, HCBt, HCBa, HCBv = FwFb(\n",
    "    6.5, 6.5, 6.5, 6.55, 6.55, 6.55, 1.083e01, 5.076e02, 3.226e01, 9.968e-01\n",
    ")\n",
    "\n",
    "HCWa_tr, HCWv_tr, _, _, _, _ = FWTraining(\n",
    "    stim_counts,\n",
    "    simtime,\n",
    "    ts,\n",
    "    HCLt,\n",
    "    HCLa,\n",
    "    HCLv,\n",
    "    HCWt,\n",
    "    HCWa,\n",
    "    HCWv,\n",
    "    HCBt,\n",
    "    HCBa,\n",
    "    HCBv,\n",
    "    HCWat,\n",
    "    HCWvt,\n",
    "    HCWav,\n",
    "    0,\n",
    "    rho_0,\n",
    "    6.5,\n",
    "    6.5,\n",
    "    k_a,\n",
    "    k_v,\n",
    "    0.05,\n",
    "    siagav_x,\n",
    "    locav_x,\n",
    ")\n",
    "\n",
    "\n",
    "_, _, _, _, HC_Model_RTs_post = experiment(\n",
    "    ts,\n",
    "    simtime,\n",
    "    mydistances,\n",
    "    5,\n",
    "    HCLt,\n",
    "    HCLa,\n",
    "    HCLv,\n",
    "    HCWt,\n",
    "    HCWa_tr[:, :, -1, -1],\n",
    "    HCWv_tr[:, :, -1, -1],\n",
    "    HCBt,\n",
    "    HCBa,\n",
    "    HCBv,\n",
    "    HCWat,\n",
    "    HCWvt,\n",
    "    HCWav,\n",
    "    0,\n",
    "    0,\n",
    ")\n",
    "\n",
    "HC_Model_RTs_post = fit_RT(HC_Model_RTs_post, HC_RTs_post)"
   ]
  },
  {
   "cell_type": "code",
   "execution_count": 7,
   "metadata": {},
   "outputs": [],
   "source": [
    "_, _, _, _, HC_Model_RTs_pre = experiment(\n",
    "    ts,\n",
    "    simtime,\n",
    "    mydistances,\n",
    "    5,\n",
    "    HCLt,\n",
    "    HCLa,\n",
    "    HCLv,\n",
    "    HCWt,\n",
    "    HCWa,\n",
    "    HCWv,\n",
    "    HCBt,\n",
    "    HCBa,\n",
    "    HCBv,\n",
    "    HCWat,\n",
    "    HCWvt,\n",
    "    HCWav,\n",
    "    0,\n",
    "    0,\n",
    ")\n",
    "\n",
    "HC_RTs_model_pre = fit_RT(HC_Model_RTs_pre, HC_RTs)"
   ]
  },
  {
   "cell_type": "code",
   "execution_count": 8,
   "metadata": {},
   "outputs": [
    {
     "data": {
      "text/plain": [
       "<matplotlib.legend.Legend at 0x7fe00b0c1950>"
      ]
     },
     "execution_count": 8,
     "metadata": {},
     "output_type": "execute_result"
    },
    {
     "data": {
      "image/png": "[encoded data removed]",
      "text/plain": [
       "<Figure size 640x480 with 1 Axes>"
      ]
     },
     "metadata": {},
     "output_type": "display_data"
    }
   ],
   "source": [
    "plt.scatter(mydistances, HC_RTs_model_pre, label=\"Pre-Training HC Model\")\n",
    "plt.scatter(mydistances, HC_RTs_post, label=\"Post-Training HC Data\")\n",
    "plt.scatter(mydistances, HC_Model_RTs_post, label=\"Post-Training HC Model\")\n",
    "plt.ylabel(\"RT (ms)\", size=14)\n",
    "plt.xlabel(\"Distance (cm)\", size=14)\n",
    "plt.legend(prop={\"size\": 12})\n",
    "plt.legend()"
   ]
  }
 ],
 "metadata": {
  "kernelspec": {
   "display_name": "vlad",
   "language": "python",
   "name": "python3"
  },
  "language_info": {
   "codemirror_mode": {
    "name": "ipython",
    "version": 3
   },
   "file_extension": ".py",
   "mimetype": "text/x-python",
   "name": "python",
   "nbconvert_exporter": "python",
   "pygments_lexer": "ipython3",
   "version": "3.11.6"
  }
 },
 "nbformat": 4,
 "nbformat_minor": 2
}
